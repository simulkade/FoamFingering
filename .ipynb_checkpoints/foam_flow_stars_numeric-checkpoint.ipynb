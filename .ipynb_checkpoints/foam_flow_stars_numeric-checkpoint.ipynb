{
 "cells": [
  {
   "cell_type": "markdown",
   "metadata": {},
   "source": [
    "# Modeling foam flow in porous media\n",
    "I'm solving 1D and 2D foam flow in porous media numerically and analytically."
   ]
  },
  {
   "cell_type": "code",
   "execution_count": 1,
   "metadata": {
    "collapsed": false
   },
   "outputs": [
    {
     "name": "stderr",
     "output_type": "stream",
     "text": [
      "INFO: Recompiling stale cache file /home/ali/.julia/lib/v0.4/Conda.ji for module Conda.\n",
      "INFO: Recompiling stale cache file /home/ali/.julia/lib/v0.4/PyPlot.ji for module PyPlot.\n",
      "/usr/local/lib/python2.7/dist-packages/matplotlib/font_manager.py:273: UserWarning: Matplotlib is building the font cache using fc-list. This may take a moment.\n",
      "  warnings.warn('Matplotlib is building the font cache using fc-list. This may take a moment.')\n"
     ]
    }
   ],
   "source": [
    "using PyPlot\n",
    "using JFVM"
   ]
  },
  {
   "cell_type": "markdown",
   "metadata": {
    "collapsed": false
   },
   "source": [
    "## Physical properties and rel-perms"
   ]
  },
  {
   "cell_type": "code",
   "execution_count": 2,
   "metadata": {
    "collapsed": false
   },
   "outputs": [
    {
     "data": {
      "text/plain": [
       "dfw (generic function with 1 method)"
      ]
     },
     "execution_count": 2,
     "metadata": {},
     "output_type": "execute_result"
    }
   ],
   "source": [
    "muw = 0.001 # water viscosity\n",
    "mug = 2e-5 # gas viscosity\n",
    "perm_ave = 1e-12 # permeability\n",
    "poros_ave = 0.2 # porosity\n",
    "fmmob = 25000\n",
    "fmdry = 0.29\n",
    "epdry = 10000\n",
    "swc = 0.1\n",
    "sgr = 0.05\n",
    "krg0 = 0.94\n",
    "ng = 1.3\n",
    "krw0 = 0.2\n",
    "nw = 4.2\n",
    "sws(sw)=((sw.>swc).*(sw.<(1-sgr)).*(sw-swc)/(1-sgr-swc))+(sw.>(1-sgr)).*ones(size(sw))\n",
    "kr(sw)=(krg0*(1-sws(sw)).^ng)\n",
    "fm(sw)=(1+fmmob*(0.5+atan(epdry.*(sw-fmdry))/π))\n",
    "krg(sw)=(kr(sw)./fm(sw))\n",
    "krw(sw)=(krw0*sws(sw).^nw)\n",
    "dkrwdsw(sw)=(nw*krw0*(1/(1-sgr-swc))*sws(sw).^(nw-1))\n",
    "dkrdsw(sw)=((krg0*ng*(1-sws(sw)).^(ng-1))/(-swc-sgr+1))\n",
    "dfmdsw(sw)=(((epdry*fmmob)./(π*(epdry^2*(sw-fmdry).^2+1))))\n",
    "dkrgdsw(sw)=((dkrdsw(sw).*fm(sw)-dfmdsw(sw).*kr(sw))./fm(sw).^2)\n",
    "fw(sw)=((krw(sw)/muw)./(krw(sw)/muw+krg(sw)/mug))\n",
    "dfw(sw)=((dkrwdsw(sw)/muw.*(krw(sw)/muw+krg(sw)/mug)-\n",
    "    (dkrwdsw(sw)/muw+dkrgdsw(sw)/mug).*krw(sw)/muw)./\n",
    "    (krg(sw)/mug+krw(sw)/muw).^2)"
   ]
  },
  {
   "cell_type": "markdown",
   "metadata": {},
   "source": [
    "## Domain & grid"
   ]
  },
  {
   "cell_type": "code",
   "execution_count": 3,
   "metadata": {
    "collapsed": false
   },
   "outputs": [
    {
     "data": {
      "text/plain": [
       "JFVM.MeshStructure(1,[109],JFVM.CellSize{Float64}([0.0020202,0.0020202,0.0020202,0.0020202,0.0020202,0.0020202,0.0020202,0.0020202,0.0020202,0.0020202  …  0.0877778,0.0877778,0.0877778,0.0877778,0.0877778,0.0877778,0.0877778,0.0877778,0.0877778,0.0877778],[0.0],[0.0]),JFVM.CellLocation{Float64}([0.0010101,0.0030303,0.00505051,0.00707071,0.00909091,0.0111111,0.0131313,0.0151515,0.0171717,0.0191919  …  0.205,0.253889,0.341667,0.429444,0.517222,0.605,0.692778,0.780556,0.868333,0.956111],[0.0],[0.0]),JFVM.FaceLocation{Float64}([0.0,0.0020202,0.0040404,0.00606061,0.00808081,0.010101,0.0121212,0.0141414,0.0161616,0.0181818  …  0.21,0.297778,0.385556,0.473333,0.561111,0.648889,0.736667,0.824444,0.912222,1.0],[0.0],[0.0]),[1],[1])"
      ]
     },
     "execution_count": 3,
     "metadata": {},
     "output_type": "execute_result"
    }
   ],
   "source": [
    "# Geometry\n",
    "m = 80 # number of cells in x direction\n",
    "n = 50 # number of cells in y direction\n",
    "W = 10 # width\n",
    "H = 1 # height\n",
    "x=[linspace(0,0.2,100); linspace(0.21, 1.0, 10)]\n",
    "meshvar = createMesh1D(x)"
   ]
  },
  {
   "cell_type": "markdown",
   "metadata": {},
   "source": [
    "## Assign the properties to the cells"
   ]
  },
  {
   "cell_type": "code",
   "execution_count": 12,
   "metadata": {
    "collapsed": false
   },
   "outputs": [
    {
     "data": {
      "text/plain": [
       "JFVM.CellValue{Float64}(JFVM.MeshStructure(1,[109],JFVM.CellSize{Float64}([0.0020202,0.0020202,0.0020202,0.0020202,0.0020202,0.0020202,0.0020202,0.0020202,0.0020202,0.0020202  …  0.0877778,0.0877778,0.0877778,0.0877778,0.0877778,0.0877778,0.0877778,0.0877778,0.0877778,0.0877778],[0.0],[0.0]),JFVM.CellLocation{Float64}([0.0010101,0.0030303,0.00505051,0.00707071,0.00909091,0.0111111,0.0131313,0.0151515,0.0171717,0.0191919  …  0.205,0.253889,0.341667,0.429444,0.517222,0.605,0.692778,0.780556,0.868333,0.956111],[0.0],[0.0]),JFVM.FaceLocation{Float64}([0.0,0.0020202,0.0040404,0.00606061,0.00808081,0.010101,0.0121212,0.0141414,0.0161616,0.0181818  …  0.21,0.297778,0.385556,0.473333,0.561111,0.648889,0.736667,0.824444,0.912222,1.0],[0.0],[0.0]),[1],[1]),[0.0,0.0,0.0,0.0,0.0,0.0,0.0,0.0,0.0,0.0  …  0.0,0.0,0.0,0.0,0.0,0.0,0.0,0.0,0.0,0.0])"
      ]
     },
     "execution_count": 12,
     "metadata": {},
     "output_type": "execute_result"
    }
   ],
   "source": [
    "poros = createCellVariable(meshvar, poros_ave)\n",
    "perm = createCellVariable(meshvar, perm_ave)\n",
    "mu_gas = createCellVariable(meshvar, mug) # gas viscosity\n",
    "mu_water = createCellVariable(meshvar, muw) # water viscosity\n",
    "Lg_ave = harmonicMean(perm./mu_gas)\n",
    "Lw_ave = harmonicMean(perm./mu_water)\n",
    "s = createCellVariable(meshvar, 0) # gas source term"
   ]
  },
  {
   "cell_type": "markdown",
   "metadata": {},
   "source": [
    "## Boundary conditions"
   ]
  },
  {
   "cell_type": "code",
   "execution_count": 5,
   "metadata": {
    "collapsed": false
   },
   "outputs": [
    {
     "data": {
      "text/plain": [
       "0.0"
      ]
     },
     "execution_count": 5,
     "metadata": {},
     "output_type": "execute_result"
    }
   ],
   "source": [
    "BCp = createBC(meshvar) # all Neumann BC for pressure\n",
    "BCs = createBC(meshvar) # saturation BC\n",
    "BCp.left.a[:] = krg(0)*Lg_ave.xvalue[1] \n",
    "BCp.left.b[:] = 0 \n",
    "u = 1e-3 \n",
    "BCp.left.c[:] = -u\n",
    "BCp.right.a[:]=0 \n",
    "BCp.right.b[:] = 1\n",
    "BCp.right.c[:] = 1e5\n",
    "BCs.left.a[:] = 0 \n",
    "BCs.left.b[:] = 1\n",
    "BCs.left.c[:] = 0.0"
   ]
  },
  {
   "cell_type": "markdown",
   "metadata": {},
   "source": [
    "## Solver setting and initialization"
   ]
  },
  {
   "cell_type": "code",
   "execution_count": 6,
   "metadata": {
    "collapsed": false
   },
   "outputs": [
    {
     "data": {
      "text/plain": [
       "6.145"
      ]
     },
     "execution_count": 6,
     "metadata": {},
     "output_type": "execute_result"
    }
   ],
   "source": [
    "# initial condition\n",
    "sw0 = createCellVariable(meshvar, 1.0, BCs) # initial gas saturation\n",
    "s = createCellVariable(meshvar, 0) # gas source term\n",
    "p0 = createCellVariable(meshvar, 1e5, BCp) # [Pa] initial pressure\n",
    "sw_old = copyCell(sw0)\n",
    "p_old = copyCell(p0)\n",
    "sw = copyCell(sw_old)\n",
    "p = copyCell(p_old)\n",
    "pgrad = gradientTerm(p)\n",
    "# solver setting\n",
    "dt0 = 0.01 # [s] time step\n",
    "dt=dt0\n",
    "t=0\n",
    "eps_sw = 1e-5\n",
    "eps_p = 1e-2\n",
    "t_final = 6.145"
   ]
  },
  {
   "cell_type": "markdown",
   "metadata": {},
   "source": [
    "## M & RHS for the explicit terms"
   ]
  },
  {
   "cell_type": "code",
   "execution_count": 7,
   "metadata": {
    "collapsed": false
   },
   "outputs": [
    {
     "data": {
      "text/plain": [
       "(\n",
       "111x111 sparse matrix with 4 Float64 entries:\n",
       "\t[1  ,   1]  =  6.21386e-6\n",
       "\t[1  ,   2]  =  -6.21386e-6\n",
       "\t[111, 110]  =  0.5\n",
       "\t[111, 111]  =  0.5,\n",
       "\n",
       "[0.001,0.0,0.0,0.0,0.0,0.0,0.0,0.0,0.0,0.0  …  0.0,0.0,0.0,0.0,0.0,0.0,0.0,0.0,0.0,100000.0])"
      ]
     },
     "execution_count": 7,
     "metadata": {},
     "output_type": "execute_result"
    }
   ],
   "source": [
    "RHSs = constantSourceTerm(s) # explicit source term to be added to the rhs\n",
    "(BCMp, BCRHSp) = boundaryConditionTerm(BCp)"
   ]
  },
  {
   "cell_type": "markdown",
   "metadata": {},
   "source": [
    "## Main loop"
   ]
  },
  {
   "cell_type": "code",
   "execution_count": 8,
   "metadata": {
    "collapsed": false
   },
   "outputs": [],
   "source": [
    "while t<t_final\n",
    "    error1 = 1e5\n",
    "    error2 = 1e5\n",
    "    loop_count =0\n",
    "    while true\n",
    "        loop_count=loop_count+1\n",
    "        if loop_count>10\n",
    "            p=copyCell(p_old)\n",
    "            sw=copyCell(sw_old)\n",
    "            dt=dt/2\n",
    "            break\n",
    "        end\n",
    "        if (error1<=eps_sw)&&(error2<=eps_p)\n",
    "            t=t+dt\n",
    "            dt=dt0\n",
    "            sw_old = copyCell(sw)\n",
    "            p_old = copyCell(p)\n",
    "            #print(t)\n",
    "            #plot(log(L_ave.xvalue')) #shading interp drawnow\n",
    "            #figure(1)  pcolor(1-sw.value(2:m+1,2:n+1)') shading interp colorbar drawnow\n",
    "            #figure(1) visualizeCells(meshvar, sw.value) drawnow\n",
    "#             figure(1)\n",
    "#             subplot(2,1,1)plot(sw_ave.xvalue, 'o')\n",
    "#             ylabel('S_w')\n",
    "#             subplot(2,1,2) semilogy(L_ave.xvalue)\n",
    "#             xlabel('x')\n",
    "#             ylabel('total mobility')\n",
    "#             drawnow\n",
    "#             plot(t, p.value(2), 'o') drawnow\n",
    "#             plot(L_ave.xvalue) drawnow\n",
    "            break\n",
    "        end\n",
    "        # step 1) calculate the average values\n",
    "#         sg_ave = arithmeticMean(meshvar, sg.value)\n",
    "        sw_ave = upwindMean(sw, -pgrad)\n",
    "        Lg = Lg_ave.*faceEval(krg,sw_ave)\n",
    "        Lw = Lw_ave.*faceEval(krw,sw_ave)\n",
    "\n",
    "        # step 2) calculate the pressure profile\n",
    "        L_ave = Lw+Lg\n",
    "        Meq = diffusionTerm(L_ave)\n",
    "        \n",
    "\n",
    "        # solve the linear system of equations and reshape the result\n",
    "        Mp = Meq + BCMp\n",
    "        RHSp = BCRHSp - RHSs # the whole continuity is multiplied by a minus sign\n",
    "        p_new = solvePDE(meshvar, Mp, RHSp)\n",
    "#         P = Mp\\RHSp\n",
    "#         p.value = reshape(full(P), m+2, n+2)\n",
    "\n",
    "        pgrad = gradientTerm(p_new)\n",
    "        error1=1e5\n",
    "#         while error1>eps_sw\n",
    "        for i = 1:3\n",
    "            sw_ave = upwindMean(sw, -pgrad)\n",
    "    #         Lg = Lg_ave.*krg(sw_ave)\n",
    "            Lw = Lw_ave.*faceEval(krw,sw_ave)\n",
    "    #         sw_ave = upwindMean(meshvar, -pgrad, sw.value)\n",
    "        #     sw_ave = arithmeticMean(meshvar, sw.value)\n",
    "    #         Lw = Lw_ave.*krw(sw_ave)\n",
    "        #     Lo = Lo_ave.*kro(sw_ave)\n",
    "            # step 3) calculate the new value of sw\n",
    "            (Mtrans, RHStrans) = transientTerm(sw_old, dt, poros)\n",
    "            u = -faceEval(dkrwdsw,sw_ave).*Lw_ave.*pgrad\n",
    "            Mconv = convectionUpwindTerm(u)\n",
    "    #       Mconv = convectionTerm(meshvar, u)\n",
    "            facevar = (-Lw+faceEval(dkrwdsw,sw_ave).*Lw_ave.*sw_ave).*pgrad\n",
    "            RHSdiv = divergenceTerm(facevar)\n",
    "            (BCM, BCRHS) = boundaryConditionTerm(BCs)\n",
    "\n",
    "            # construct the linear system\n",
    "            M = Mtrans+Mconv+BCM\n",
    "            RHS = RHStrans+BCRHS-RHSdiv+RHSs\n",
    "            sw_new = solvePDE(meshvar, M, RHS)\n",
    "    #         SG = M\\RHS\n",
    "    #         sg_new = reshape(full(SG), m+2, n+2)\n",
    "            error1 = sum(abs(sw_new.value[:]-sw.value[:]))\n",
    "#             sw.value = 0.3*sw_new+0.7*sw.value\n",
    "            sw=copyCell(sw_new)\n",
    "        end\n",
    "        error2 = maximum(abs(p_new.value-p.value)./p_new.value)\n",
    "#         p.value = 0.1*p.value+0.9*p_new\n",
    "        p = copyCell(p_new)\n",
    "    end\n",
    "\n",
    "end"
   ]
  },
  {
   "cell_type": "code",
   "execution_count": 9,
   "metadata": {
    "collapsed": false
   },
   "outputs": [
    {
     "data": {
      "image/png": "[encoded data removed]",
      "text/plain": [
       "PyPlot.Figure(PyObject <matplotlib.figure.Figure object at 0x7f550d78c290>)"
      ]
     },
     "metadata": {},
     "output_type": "display_data"
    },
    {
     "data": {
      "text/plain": [
       "1-element Array{Any,1}:\n",
       " PyObject <matplotlib.lines.Line2D object at 0x7f550d1ee990>"
      ]
     },
     "execution_count": 9,
     "metadata": {},
     "output_type": "execute_result"
    }
   ],
   "source": [
    "visualizeCells(sw)"
   ]
  },
  {
   "cell_type": "code",
   "execution_count": 10,
   "metadata": {
    "collapsed": false
   },
   "outputs": [
    {
     "ename": "LoadError",
     "evalue": "LoadError: UndefVarError: sw_ave not defined\nwhile loading In[10], in expression starting on line 1",
     "output_type": "error",
     "traceback": [
      "LoadError: UndefVarError: sw_ave not defined\nwhile loading In[10], in expression starting on line 1",
      ""
     ]
    }
   ],
   "source": [
    "find(((1-faceEval(sws, sw_ave)).xvalue).<0)"
   ]
  },
  {
   "cell_type": "code",
   "execution_count": 11,
   "metadata": {
    "collapsed": false
   },
   "outputs": [
    {
     "data": {
      "image/png": "[encoded data removed]",
      "text/plain": [
       "PyPlot.Figure(PyObject <matplotlib.figure.Figure object at 0x7f550abc2050>)"
      ]
     },
     "metadata": {},
     "output_type": "display_data"
    },
    {
     "data": {
      "text/plain": [
       "1-element Array{Any,1}:\n",
       " PyObject <matplotlib.lines.Line2D object at 0x7f550aa659d0>"
      ]
     },
     "execution_count": 11,
     "metadata": {},
     "output_type": "execute_result"
    }
   ],
   "source": [
    "sw=linspace(0,1,50)\n",
    "plot(sw, sws(sw))"
   ]
  }
 ],
 "metadata": {
  "kernelspec": {
   "display_name": "Julia 0.4.5",
   "language": "julia",
   "name": "julia-0.4"
  },
  "language_info": {
   "file_extension": ".jl",
   "mimetype": "application/julia",
   "name": "julia",
   "version": "0.4.5"
  }
 },
 "nbformat": 4,
 "nbformat_minor": 0
}
