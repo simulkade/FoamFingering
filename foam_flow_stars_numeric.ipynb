{
 "cells": [
  {
   "cell_type": "markdown",
   "metadata": {},
   "source": [
    "# Modeling foam flow in porous media\n",
    "I'm solving 1D and 2D foam flow in porous media numerically and analytically."
   ]
  },
  {
   "cell_type": "code",
   "execution_count": 36,
   "metadata": {},
   "outputs": [],
   "source": [
    "# using PyPlot\n",
    "using JFVM, JFVMvis"
   ]
  },
  {
   "cell_type": "markdown",
   "metadata": {},
   "source": [
    "## Physical properties and rel-perms"
   ]
  },
  {
   "cell_type": "code",
   "execution_count": 37,
   "metadata": {},
   "outputs": [
    {
     "data": {
      "text/plain": [
       "dfw (generic function with 1 method)"
      ]
     },
     "execution_count": 37,
     "metadata": {},
     "output_type": "execute_result"
    }
   ],
   "source": [
    "muw = 0.001 # water viscosity\n",
    "mug = 2e-5 # gas viscosity\n",
    "perm_ave = 1e-12 # permeability\n",
    "poros_ave = 0.2 # porosity\n",
    "fmmob = 25000\n",
    "fmdry = 0.29\n",
    "epdry = 10000\n",
    "swc = 0.1\n",
    "sgr = 0.05\n",
    "krg0 = 0.94\n",
    "ng = 1.3\n",
    "krw0 = 0.2\n",
    "nw = 4.2\n",
    "# sws(sw)=((sw.>swc).*(sw.<(1-sgr)).*(sw-swc)/(1-sgr-swc))+(sw.>(1-sgr)).*ones(size(sw))\n",
    "# kr(sw)=(krg0*(1-sws(sw)).^ng)\n",
    "# fm(sw)=(1+fmmob*(0.5+atan(epdry.*(sw-fmdry))/π))\n",
    "# krg(sw)=(kr(sw)./fm(sw))\n",
    "# krw(sw)=(krw0*sws(sw).^nw)\n",
    "# dkrwdsw(sw)=(nw*krw0*(1/(1-sgr-swc))*sws(sw).^(nw-1))\n",
    "# dkrdsw(sw)=((krg0*ng*(1-sws(sw)).^(ng-1))/(-swc-sgr+1))\n",
    "# dfmdsw(sw)=(((epdry*fmmob)./(π*(epdry^2*(sw-fmdry).^2+1))))\n",
    "# dkrgdsw(sw)=((dkrdsw(sw).*fm(sw)-dfmdsw(sw).*kr(sw))./fm(sw).^2)\n",
    "# fw(sw)=((krw(sw)/muw)./(krw(sw)/muw+krg(sw)/mug))\n",
    "# dfw(sw)=((dkrwdsw(sw)/muw.*(krw(sw)/muw+krg(sw)/mug)-\n",
    "#     (dkrwdsw(sw)/muw+dkrgdsw(sw)/mug).*krw(sw)/muw)./\n",
    "#     (krg(sw)/mug+krw(sw)/muw).^2)\n",
    "\n",
    "sws(sw)=((sw>swc)*(sw<(1-sgr))*(sw-swc)/(1-sgr-swc))+(sw>(1-sgr))\n",
    "kr(sw)=(krg0*(1-sws(sw))^ng)\n",
    "fm(sw)=(1+fmmob*(0.5+atan(epdry*(sw-fmdry))/π))\n",
    "krg(sw)=(kr(sw)/fm(sw))\n",
    "krw(sw)=(krw0*sws(sw)^nw)\n",
    "dkrwdsw(sw)=(nw*krw0*(1/(1-sgr-swc))*sws(sw)^(nw-1))\n",
    "dkrdsw(sw)=((krg0*ng*(1-sws(sw))^(ng-1))/(-swc-sgr+1))\n",
    "dfmdsw(sw)=(((epdry*fmmob)/(π*(epdry^2*(sw-fmdry)^2+1))))\n",
    "dkrgdsw(sw)=((dkrdsw(sw)*fm(sw)-dfmdsw(sw)*kr(sw))/fm(sw)^2)\n",
    "fw(sw)=((krw(sw)/muw)/(krw(sw)/muw+krg(sw)/mug))\n",
    "dfw(sw)=((dkrwdsw(sw)/muw*(krw(sw)/muw+krg(sw)/mug)-\n",
    "    (dkrwdsw(sw)/muw+dkrgdsw(sw)/mug)*krw(sw)/muw)/\n",
    "    (krg(sw)/mug+krw(sw)/muw)^2)"
   ]
  },
  {
   "cell_type": "markdown",
   "metadata": {},
   "source": [
    "## Domain & grid"
   ]
  },
  {
   "cell_type": "code",
   "execution_count": 38,
   "metadata": {},
   "outputs": [
    {
     "data": {
      "text/plain": [
       "MeshStructure(1, [109], JFVM.CellSize{Float64}([0.00202020202020202, 0.00202020202020202, 0.00202020202020202, 0.00202020202020202, 0.00202020202020202, 0.002020202020202021, 0.0020202020202020193, 0.002020202020202021, 0.0020202020202020193, 0.0020202020202020193  …  0.08777777777777776, 0.08777777777777779, 0.08777777777777779, 0.08777777777777779, 0.08777777777777773, 0.08777777777777784, 0.08777777777777773, 0.08777777777777784, 0.08777777777777773, 0.08777777777777773], [0.0], [0.0]), JFVM.CellLocation{Float64}([0.00101010101010101, 0.0030303030303030303, 0.00505050505050505, 0.007070707070707071, 0.00909090909090909, 0.011111111111111112, 0.013131313131313133, 0.015151515151515152, 0.01717171717171717, 0.01919191919191919  …  0.20500000000000002, 0.2538888888888889, 0.3416666666666667, 0.4294444444444444, 0.5172222222222222, 0.605, 0.6927777777777777, 0.7805555555555556, 0.8683333333333334, 0.9561111111111111], [0.0], [0.0]), JFVM.FaceLocation{Float64}([0.0, 0.00202020202020202, 0.00404040404040404, 0.006060606060606061, 0.00808080808080808, 0.010101010101010102, 0.012121212121212121, 0.014141414141414142, 0.01616161616161616, 0.01818181818181818  …  0.21, 0.29777777777777775, 0.38555555555555554, 0.47333333333333333, 0.5611111111111111, 0.6488888888888888, 0.7366666666666667, 0.8244444444444444, 0.9122222222222223, 1.0], [0.0], [0.0]), [1], [1])"
      ]
     },
     "execution_count": 38,
     "metadata": {},
     "output_type": "execute_result"
    }
   ],
   "source": [
    "# Geometry\n",
    "m = 80 # number of cells in x direction\n",
    "n = 50 # number of cells in y direction\n",
    "W = 10 # width\n",
    "H = 1 # height\n",
    "x=[range(0, 0.2, length=100); range(0.21, 1.0, length=10)]\n",
    "meshvar = createMesh1D(x)"
   ]
  },
  {
   "cell_type": "markdown",
   "metadata": {},
   "source": [
    "## Assign the properties to the cells"
   ]
  },
  {
   "cell_type": "code",
   "execution_count": 39,
   "metadata": {},
   "outputs": [
    {
     "data": {
      "text/plain": [
       "CellValue(MeshStructure(1, [109], JFVM.CellSize{Float64}([0.00202020202020202, 0.00202020202020202, 0.00202020202020202, 0.00202020202020202, 0.00202020202020202, 0.002020202020202021, 0.0020202020202020193, 0.002020202020202021, 0.0020202020202020193, 0.0020202020202020193  …  0.08777777777777776, 0.08777777777777779, 0.08777777777777779, 0.08777777777777779, 0.08777777777777773, 0.08777777777777784, 0.08777777777777773, 0.08777777777777784, 0.08777777777777773, 0.08777777777777773], [0.0], [0.0]), JFVM.CellLocation{Float64}([0.00101010101010101, 0.0030303030303030303, 0.00505050505050505, 0.007070707070707071, 0.00909090909090909, 0.011111111111111112, 0.013131313131313133, 0.015151515151515152, 0.01717171717171717, 0.01919191919191919  …  0.20500000000000002, 0.2538888888888889, 0.3416666666666667, 0.4294444444444444, 0.5172222222222222, 0.605, 0.6927777777777777, 0.7805555555555556, 0.8683333333333334, 0.9561111111111111], [0.0], [0.0]), JFVM.FaceLocation{Float64}([0.0, 0.00202020202020202, 0.00404040404040404, 0.006060606060606061, 0.00808080808080808, 0.010101010101010102, 0.012121212121212121, 0.014141414141414142, 0.01616161616161616, 0.01818181818181818  …  0.21, 0.29777777777777775, 0.38555555555555554, 0.47333333333333333, 0.5611111111111111, 0.6488888888888888, 0.7366666666666667, 0.8244444444444444, 0.9122222222222223, 1.0], [0.0], [0.0]), [1], [1]), [0.0, 0.0, 0.0, 0.0, 0.0, 0.0, 0.0, 0.0, 0.0, 0.0  …  0.0, 0.0, 0.0, 0.0, 0.0, 0.0, 0.0, 0.0, 0.0, 0.0])"
      ]
     },
     "execution_count": 39,
     "metadata": {},
     "output_type": "execute_result"
    }
   ],
   "source": [
    "poros = createCellVariable(meshvar, poros_ave)\n",
    "perm = createCellVariable(meshvar, perm_ave)\n",
    "mu_gas = createCellVariable(meshvar, mug) # gas viscosity\n",
    "mu_water = createCellVariable(meshvar, muw) # water viscosity\n",
    "Lg_ave = harmonicMean(perm/mu_gas)\n",
    "Lw_ave = harmonicMean(perm/mu_water)\n",
    "s = createCellVariable(meshvar, 0) # gas source term"
   ]
  },
  {
   "cell_type": "markdown",
   "metadata": {},
   "source": [
    "## Boundary conditions"
   ]
  },
  {
   "cell_type": "code",
   "execution_count": 40,
   "metadata": {},
   "outputs": [
    {
     "data": {
      "text/plain": [
       "1-element Vector{Float64}:\n",
       " 0.0"
      ]
     },
     "execution_count": 40,
     "metadata": {},
     "output_type": "execute_result"
    }
   ],
   "source": [
    "BCp = createBC(meshvar) # all Neumann BC for pressure\n",
    "BCs = createBC(meshvar) # saturation BC\n",
    "BCp.left.a .= krg(0)*Lg_ave.xvalue[1] \n",
    "BCp.left.b .= 0 \n",
    "u = 1e-3 \n",
    "BCp.left.c .= -u\n",
    "BCp.right.a .=0 \n",
    "BCp.right.b .= 1\n",
    "BCp.right.c .= 1e5\n",
    "BCs.left.a .= 0 \n",
    "BCs.left.b .= 1\n",
    "BCs.left.c .= 0.0"
   ]
  },
  {
   "cell_type": "markdown",
   "metadata": {},
   "source": [
    "## Solver setting and initialization"
   ]
  },
  {
   "cell_type": "code",
   "execution_count": 41,
   "metadata": {},
   "outputs": [
    {
     "data": {
      "text/plain": [
       "12.29"
      ]
     },
     "execution_count": 41,
     "metadata": {},
     "output_type": "execute_result"
    }
   ],
   "source": [
    "# initial condition\n",
    "sw0 = createCellVariable(meshvar, 1.0, BCs) # initial gas saturation\n",
    "s = createCellVariable(meshvar, 0) # gas source term\n",
    "p0 = createCellVariable(meshvar, 1e5, BCp) # [Pa] initial pressure\n",
    "sw_old = copyCell(sw0)\n",
    "p_old = copyCell(p0)\n",
    "sw = copyCell(sw_old)\n",
    "p = copyCell(p_old)\n",
    "pgrad = gradientTerm(p)\n",
    "# solver setting\n",
    "dt0 = 0.01 # [s] time step\n",
    "dt=dt0\n",
    "t=0\n",
    "eps_sw = 1e-5\n",
    "eps_p = 1e-2\n",
    "t_final = 6.145*2"
   ]
  },
  {
   "cell_type": "markdown",
   "metadata": {},
   "source": [
    "## M & RHS for the explicit terms"
   ]
  },
  {
   "cell_type": "code",
   "execution_count": 42,
   "metadata": {},
   "outputs": [
    {
     "data": {
      "text/plain": [
       "(sparse([1, 1, 111, 111], [1, 2, 110, 111], [6.2138582708975665e-6, -6.2138582708975665e-6, 0.5, 0.5], 111, 111), [0.001, 0.0, 0.0, 0.0, 0.0, 0.0, 0.0, 0.0, 0.0, 0.0  …  0.0, 0.0, 0.0, 0.0, 0.0, 0.0, 0.0, 0.0, 0.0, 100000.0])"
      ]
     },
     "execution_count": 42,
     "metadata": {},
     "output_type": "execute_result"
    }
   ],
   "source": [
    "RHSs = constantSourceTerm(s) # explicit source term to be added to the rhs\n",
    "(BCMp, BCRHSp) = boundaryConditionTerm(BCp)"
   ]
  },
  {
   "cell_type": "markdown",
   "metadata": {},
   "source": [
    "## Main loop"
   ]
  },
  {
   "cell_type": "code",
   "execution_count": 43,
   "metadata": {},
   "outputs": [],
   "source": [
    "while t<t_final\n",
    "    error1 = 1e5\n",
    "    error2 = 1e5\n",
    "    loop_count =0\n",
    "    while true\n",
    "        loop_count=loop_count+1\n",
    "        if loop_count>10\n",
    "            p=copyCell(p_old)\n",
    "            sw=copyCell(sw_old)\n",
    "            dt=dt/2\n",
    "            break\n",
    "        end\n",
    "        if (error1<=eps_sw)&&(error2<=eps_p)\n",
    "            t=t+dt\n",
    "            dt=dt0\n",
    "            sw_old = copyCell(sw)\n",
    "            p_old = copyCell(p)\n",
    "            #print(t)\n",
    "            #plot(log(L_ave.xvalue')) #shading interp drawnow\n",
    "            #figure(1)  pcolor(1-sw.value(2:m+1,2:n+1)') shading interp colorbar drawnow\n",
    "            #figure(1) visualizeCells(meshvar, sw.value) drawnow\n",
    "#             figure(1)\n",
    "#             subplot(2,1,1)plot(sw_ave.xvalue, 'o')\n",
    "#             ylabel('S_w')\n",
    "#             subplot(2,1,2) semilogy(L_ave.xvalue)\n",
    "#             xlabel('x')\n",
    "#             ylabel('total mobility')\n",
    "#             drawnow\n",
    "#             plot(t, p.value(2), 'o') drawnow\n",
    "#             plot(L_ave.xvalue) drawnow\n",
    "            break\n",
    "        end\n",
    "        # step 1) calculate the average values\n",
    "#         sg_ave = arithmeticMean(meshvar, sg.value)\n",
    "        sw_ave = upwindMean(sw, -pgrad)\n",
    "        Lg = Lg_ave*faceEval(krg,sw_ave)\n",
    "        Lw = Lw_ave*faceEval(krw,sw_ave)\n",
    "\n",
    "        # step 2) calculate the pressure profile\n",
    "        L_ave = Lw+Lg\n",
    "        Meq = diffusionTerm(L_ave)\n",
    "        \n",
    "\n",
    "        # solve the linear system of equations and reshape the result\n",
    "        Mp = Meq + BCMp\n",
    "        RHSp = BCRHSp - RHSs # the whole continuity is multiplied by a minus sign\n",
    "        p_new = solvePDE(meshvar, Mp, RHSp)\n",
    "#         P = Mp\\RHSp\n",
    "#         p.value = reshape(full(P), m+2, n+2)\n",
    "\n",
    "        pgrad = gradientTerm(p_new)\n",
    "        error1=1e5\n",
    "#         while error1>eps_sw\n",
    "        for i = 1:3\n",
    "            sw_ave = upwindMean(sw, -pgrad)\n",
    "    #         Lg = Lg_ave.*krg(sw_ave)\n",
    "            Lw = Lw_ave*faceEval(krw,sw_ave)\n",
    "    #         sw_ave = upwindMean(meshvar, -pgrad, sw.value)\n",
    "        #     sw_ave = arithmeticMean(meshvar, sw.value)\n",
    "    #         Lw = Lw_ave.*krw(sw_ave)\n",
    "        #     Lo = Lo_ave.*kro(sw_ave)\n",
    "            # step 3) calculate the new value of sw\n",
    "            (Mtrans, RHStrans) = transientTerm(sw_old, dt, poros)\n",
    "            u = -faceEval(dkrwdsw,sw_ave)*Lw_ave*pgrad\n",
    "            Mconv = convectionUpwindTerm(u)\n",
    "    #       Mconv = convectionTerm(meshvar, u)\n",
    "            facevar = (-Lw+faceEval(dkrwdsw,sw_ave)*Lw_ave*sw_ave)*pgrad\n",
    "            RHSdiv = divergenceTerm(facevar)\n",
    "            (BCM, BCRHS) = boundaryConditionTerm(BCs)\n",
    "\n",
    "            # construct the linear system\n",
    "            M = Mtrans+Mconv+BCM\n",
    "            RHS = RHStrans+BCRHS-RHSdiv+RHSs\n",
    "            sw_new = solveLinearPDE(meshvar, M, RHS)\n",
    "    #         SG = M\\RHS\n",
    "    #         sg_new = reshape(full(SG), m+2, n+2)\n",
    "            error1 = sum(abs.(sw_new.value .- sw.value))\n",
    "#             sw.value = 0.3*sw_new+0.7*sw.value\n",
    "            sw=copyCell(sw_new)\n",
    "        end\n",
    "        error2 = maximum(abs.(p_new.value .- p.value)./p_new.value)\n",
    "#         p.value = 0.1*p.value+0.9*p_new\n",
    "        p = copyCell(p_new)\n",
    "    end\n",
    "\n",
    "end"
   ]
  },
  {
   "cell_type": "code",
   "execution_count": 44,
   "metadata": {},
   "outputs": [
    {
     "data": {
      "image/png": "[encoded data removed]",
      "text/plain": [
       "PyPlot.Figure(PyObject <Figure size 640x480 with 1 Axes>)"
      ]
     },
     "metadata": {},
     "output_type": "display_data"
    },
    {
     "data": {
      "text/plain": [
       "1-element Vector{PyCall.PyObject}:\n",
       " PyObject <matplotlib.lines.Line2D object at 0x00000000A199FF10>"
      ]
     },
     "execution_count": 44,
     "metadata": {},
     "output_type": "execute_result"
    }
   ],
   "source": [
    "# plot(sw.value[2:end-1])\n",
    "visualizeCells(sw)"
   ]
  }
 ],
 "metadata": {
  "hide_input": false,
  "kernelspec": {
   "display_name": "Julia 1.8.2",
   "language": "julia",
   "name": "julia-1.8"
  },
  "language_info": {
   "file_extension": ".jl",
   "mimetype": "application/julia",
   "name": "julia",
   "version": "1.8.2"
  }
 },
 "nbformat": 4,
 "nbformat_minor": 4
}
