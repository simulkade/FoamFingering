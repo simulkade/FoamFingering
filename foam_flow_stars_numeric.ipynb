{
 "cells": [
  {
   "cell_type": "markdown",
   "metadata": {},
   "source": [
    "# Modeling foam flow in porous media\n",
    "I'm solving 1D and 2D foam flow in porous media numerically and analytically."
   ]
  },
  {
   "cell_type": "code",
   "execution_count": 11,
   "metadata": {},
   "outputs": [],
   "source": [
    "# using PyPlot\n",
    "using JFVM, JFVMvis\n",
    "using Plots"
   ]
  },
  {
   "cell_type": "markdown",
   "metadata": {},
   "source": [
    "## Physical properties and rel-perms"
   ]
  },
  {
   "cell_type": "code",
   "execution_count": 12,
   "metadata": {},
   "outputs": [
    {
     "data": {
      "text/plain": [
       "dfw (generic function with 1 method)"
      ]
     },
     "execution_count": 12,
     "metadata": {},
     "output_type": "execute_result"
    }
   ],
   "source": [
    "muw = 0.001 # water viscosity\n",
    "mug = 2e-5 # gas viscosity\n",
    "perm_ave = 1e-12 # permeability\n",
    "poros_ave = 0.2 # porosity\n",
    "fmmob = 25000\n",
    "fmdry = 0.29\n",
    "epdry = 10000\n",
    "swc = 0.1\n",
    "sgr = 0.05\n",
    "krg0 = 0.94\n",
    "ng = 1.3\n",
    "krw0 = 0.2\n",
    "nw = 4.2\n",
    "# sws(sw)=((sw.>swc).*(sw.<(1-sgr)).*(sw-swc)/(1-sgr-swc))+(sw.>(1-sgr)).*ones(size(sw))\n",
    "# kr(sw)=(krg0*(1-sws(sw)).^ng)\n",
    "# fm(sw)=(1+fmmob*(0.5+atan(epdry.*(sw-fmdry))/π))\n",
    "# krg(sw)=(kr(sw)./fm(sw))\n",
    "# krw(sw)=(krw0*sws(sw).^nw)\n",
    "# dkrwdsw(sw)=(nw*krw0*(1/(1-sgr-swc))*sws(sw).^(nw-1))\n",
    "# dkrdsw(sw)=((krg0*ng*(1-sws(sw)).^(ng-1))/(-swc-sgr+1))\n",
    "# dfmdsw(sw)=(((epdry*fmmob)./(π*(epdry^2*(sw-fmdry).^2+1))))\n",
    "# dkrgdsw(sw)=((dkrdsw(sw).*fm(sw)-dfmdsw(sw).*kr(sw))./fm(sw).^2)\n",
    "# fw(sw)=((krw(sw)/muw)./(krw(sw)/muw+krg(sw)/mug))\n",
    "# dfw(sw)=((dkrwdsw(sw)/muw.*(krw(sw)/muw+krg(sw)/mug)-\n",
    "#     (dkrwdsw(sw)/muw+dkrgdsw(sw)/mug).*krw(sw)/muw)./\n",
    "#     (krg(sw)/mug+krw(sw)/muw).^2)\n",
    "\n",
    "sws(sw)=((sw>swc)*(sw<(1-sgr))*(sw-swc)/(1-sgr-swc))+(sw>(1-sgr))\n",
    "kr(sw)=(krg0*(1-sws(sw))^ng)\n",
    "fm(sw)=(1+fmmob*(0.5+atan(epdry*(sw-fmdry))/π))\n",
    "krg(sw)=(kr(sw)/fm(sw))\n",
    "krw(sw)=(krw0*sws(sw)^nw)\n",
    "dkrwdsw(sw)=(nw*krw0*(1/(1-sgr-swc))*sws(sw)^(nw-1))\n",
    "dkrdsw(sw)=((krg0*ng*(1-sws(sw))^(ng-1))/(-swc-sgr+1))\n",
    "dfmdsw(sw)=(((epdry*fmmob)/(π*(epdry^2*(sw-fmdry)^2+1))))\n",
    "dkrgdsw(sw)=((dkrdsw(sw)*fm(sw)-dfmdsw(sw)*kr(sw))/fm(sw)^2)\n",
    "fw(sw)=((krw(sw)/muw)/(krw(sw)/muw+krg(sw)/mug))\n",
    "dfw(sw)=((dkrwdsw(sw)/muw*(krw(sw)/muw+krg(sw)/mug)-\n",
    "    (dkrwdsw(sw)/muw+dkrgdsw(sw)/mug)*krw(sw)/muw)/\n",
    "    (krg(sw)/mug+krw(sw)/muw)^2)"
   ]
  },
  {
   "cell_type": "code",
   "execution_count": 13,
   "metadata": {},
   "outputs": [],
   "source": [
    "# Visualize relative permeabilities\n",
    "sw_r = range(0.0, 1.0, length=100)\n",
    "plot(sw_r, mug.*fm.(sw_r), \n",
    "    xlabel= \"Liquid saturation\", \n",
    "    ylabel= \"Foam viscosity [Pa.s]\", \n",
    "    label=\"\",\n",
    "    xtickfontsize=10,\n",
    "    ytickfontsize=10,\n",
    "    dpi=300)\n",
    "savefig(\"foam_apparent_viscosity.png\")"
   ]
  },
  {
   "cell_type": "markdown",
   "metadata": {},
   "source": [
    "## Domain & grid"
   ]
  },
  {
   "cell_type": "code",
   "execution_count": 14,
   "metadata": {},
   "outputs": [
    {
     "data": {
      "text/plain": [
       "MeshStructure(1, [109], JFVM.CellSize{Float64}([0.00202020202020202, 0.00202020202020202, 0.00202020202020202, 0.00202020202020202, 0.00202020202020202, 0.002020202020202021, 0.0020202020202020193, 0.002020202020202021, 0.0020202020202020193, 0.0020202020202020193  …  0.08777777777777776, 0.08777777777777779, 0.08777777777777779, 0.08777777777777779, 0.08777777777777773, 0.08777777777777784, 0.08777777777777773, 0.08777777777777784, 0.08777777777777773, 0.08777777777777773], [0.0], [0.0]), JFVM.CellLocation{Float64}([0.00101010101010101, 0.0030303030303030303, 0.00505050505050505, 0.007070707070707071, 0.00909090909090909, 0.011111111111111112, 0.013131313131313133, 0.015151515151515152, 0.01717171717171717, 0.01919191919191919  …  0.20500000000000002, 0.2538888888888889, 0.3416666666666667, 0.4294444444444444, 0.5172222222222222, 0.605, 0.6927777777777777, 0.7805555555555556, 0.8683333333333334, 0.9561111111111111], [0.0], [0.0]), JFVM.FaceLocation{Float64}([0.0, 0.00202020202020202, 0.00404040404040404, 0.006060606060606061, 0.00808080808080808, 0.010101010101010102, 0.012121212121212121, 0.014141414141414142, 0.01616161616161616, 0.01818181818181818  …  0.21, 0.29777777777777775, 0.38555555555555554, 0.47333333333333333, 0.5611111111111111, 0.6488888888888888, 0.7366666666666667, 0.8244444444444444, 0.9122222222222223, 1.0], [0.0], [0.0]), [1], [1])"
      ]
     },
     "execution_count": 14,
     "metadata": {},
     "output_type": "execute_result"
    }
   ],
   "source": [
    "# Geometry\n",
    "m = 80 # number of cells in x direction\n",
    "n = 50 # number of cells in y direction\n",
    "W = 10 # width\n",
    "H = 1 # height\n",
    "x=[range(0, 0.2, length=100); range(0.21, 1.0, length=10)]\n",
    "meshvar = createMesh1D(x)"
   ]
  },
  {
   "cell_type": "markdown",
   "metadata": {},
   "source": [
    "## Assign the properties to the cells"
   ]
  },
  {
   "cell_type": "code",
   "execution_count": 15,
   "metadata": {},
   "outputs": [
    {
     "data": {
      "text/plain": [
       "CellValue(MeshStructure(1, [109], JFVM.CellSize{Float64}([0.00202020202020202, 0.00202020202020202, 0.00202020202020202, 0.00202020202020202, 0.00202020202020202, 0.002020202020202021, 0.0020202020202020193, 0.002020202020202021, 0.0020202020202020193, 0.0020202020202020193  …  0.08777777777777776, 0.08777777777777779, 0.08777777777777779, 0.08777777777777779, 0.08777777777777773, 0.08777777777777784, 0.08777777777777773, 0.08777777777777784, 0.08777777777777773, 0.08777777777777773], [0.0], [0.0]), JFVM.CellLocation{Float64}([0.00101010101010101, 0.0030303030303030303, 0.00505050505050505, 0.007070707070707071, 0.00909090909090909, 0.011111111111111112, 0.013131313131313133, 0.015151515151515152, 0.01717171717171717, 0.01919191919191919  …  0.20500000000000002, 0.2538888888888889, 0.3416666666666667, 0.4294444444444444, 0.5172222222222222, 0.605, 0.6927777777777777, 0.7805555555555556, 0.8683333333333334, 0.9561111111111111], [0.0], [0.0]), JFVM.FaceLocation{Float64}([0.0, 0.00202020202020202, 0.00404040404040404, 0.006060606060606061, 0.00808080808080808, 0.010101010101010102, 0.012121212121212121, 0.014141414141414142, 0.01616161616161616, 0.01818181818181818  …  0.21, 0.29777777777777775, 0.38555555555555554, 0.47333333333333333, 0.5611111111111111, 0.6488888888888888, 0.7366666666666667, 0.8244444444444444, 0.9122222222222223, 1.0], [0.0], [0.0]), [1], [1]), [0.0, 0.0, 0.0, 0.0, 0.0, 0.0, 0.0, 0.0, 0.0, 0.0  …  0.0, 0.0, 0.0, 0.0, 0.0, 0.0, 0.0, 0.0, 0.0, 0.0])"
      ]
     },
     "execution_count": 15,
     "metadata": {},
     "output_type": "execute_result"
    }
   ],
   "source": [
    "poros = createCellVariable(meshvar, poros_ave)\n",
    "perm = createCellVariable(meshvar, perm_ave)\n",
    "mu_gas = createCellVariable(meshvar, mug) # gas viscosity\n",
    "mu_water = createCellVariable(meshvar, muw) # water viscosity\n",
    "Lg_ave = harmonicMean(perm/mu_gas)\n",
    "Lw_ave = harmonicMean(perm/mu_water)\n",
    "s = createCellVariable(meshvar, 0) # gas source term"
   ]
  },
  {
   "cell_type": "markdown",
   "metadata": {},
   "source": [
    "## Boundary conditions"
   ]
  },
  {
   "cell_type": "code",
   "execution_count": 16,
   "metadata": {},
   "outputs": [
    {
     "data": {
      "text/plain": [
       "1-element Vector{Float64}:\n",
       " 0.0"
      ]
     },
     "execution_count": 16,
     "metadata": {},
     "output_type": "execute_result"
    }
   ],
   "source": [
    "BCp = createBC(meshvar) # all Neumann BC for pressure\n",
    "BCs = createBC(meshvar) # saturation BC\n",
    "BCp.left.a .= krg(0)*Lg_ave.xvalue[1] \n",
    "BCp.left.b .= 0 \n",
    "u = 1e-3 \n",
    "BCp.left.c .= -u\n",
    "BCp.right.a .=0 \n",
    "BCp.right.b .= 1\n",
    "BCp.right.c .= 1e5\n",
    "BCs.left.a .= 0 \n",
    "BCs.left.b .= 1\n",
    "BCs.left.c .= 0.0"
   ]
  },
  {
   "cell_type": "markdown",
   "metadata": {},
   "source": [
    "## Solver setting and initialization"
   ]
  },
  {
   "cell_type": "code",
   "execution_count": 17,
   "metadata": {},
   "outputs": [
    {
     "data": {
      "text/plain": [
       "12.29"
      ]
     },
     "execution_count": 17,
     "metadata": {},
     "output_type": "execute_result"
    }
   ],
   "source": [
    "# initial condition\n",
    "sw0 = createCellVariable(meshvar, 1.0, BCs) # initial gas saturation\n",
    "s = createCellVariable(meshvar, 0) # gas source term\n",
    "p0 = createCellVariable(meshvar, 1e5, BCp) # [Pa] initial pressure\n",
    "sw_old = copyCell(sw0)\n",
    "p_old = copyCell(p0)\n",
    "sw = copyCell(sw_old)\n",
    "p = copyCell(p_old)\n",
    "pgrad = gradientTerm(p)\n",
    "# solver setting\n",
    "dt0 = 0.01 # [s] time step\n",
    "dt=dt0\n",
    "t=0\n",
    "eps_sw = 1e-5\n",
    "eps_p = 1e-2\n",
    "t_final = 6.145*2"
   ]
  },
  {
   "cell_type": "markdown",
   "metadata": {},
   "source": [
    "## M & RHS for the explicit terms"
   ]
  },
  {
   "cell_type": "code",
   "execution_count": 18,
   "metadata": {},
   "outputs": [
    {
     "data": {
      "text/plain": [
       "(sparse([1, 1, 111, 111], [1, 2, 110, 111], [6.2138582708975665e-6, -6.2138582708975665e-6, 0.5, 0.5], 111, 111), [0.001, 0.0, 0.0, 0.0, 0.0, 0.0, 0.0, 0.0, 0.0, 0.0  …  0.0, 0.0, 0.0, 0.0, 0.0, 0.0, 0.0, 0.0, 0.0, 100000.0])"
      ]
     },
     "execution_count": 18,
     "metadata": {},
     "output_type": "execute_result"
    }
   ],
   "source": [
    "RHSs = constantSourceTerm(s) # explicit source term to be added to the rhs\n",
    "(BCMp, BCRHSp) = boundaryConditionTerm(BCp)"
   ]
  },
  {
   "cell_type": "markdown",
   "metadata": {},
   "source": [
    "## Main loop"
   ]
  },
  {
   "cell_type": "code",
   "execution_count": 19,
   "metadata": {},
   "outputs": [],
   "source": [
    "while t<t_final\n",
    "    error1 = 1e5\n",
    "    error2 = 1e5\n",
    "    loop_count =0\n",
    "    while true\n",
    "        loop_count=loop_count+1\n",
    "        if loop_count>10\n",
    "            p=copyCell(p_old)\n",
    "            sw=copyCell(sw_old)\n",
    "            dt=dt/2\n",
    "            break\n",
    "        end\n",
    "        if (error1<=eps_sw)&&(error2<=eps_p)\n",
    "            t=t+dt\n",
    "            dt=dt0\n",
    "            sw_old = copyCell(sw)\n",
    "            p_old = copyCell(p)\n",
    "            #print(t)\n",
    "            #plot(log(L_ave.xvalue')) #shading interp drawnow\n",
    "            #figure(1)  pcolor(1-sw.value(2:m+1,2:n+1)') shading interp colorbar drawnow\n",
    "            #figure(1) visualizeCells(meshvar, sw.value) drawnow\n",
    "#             figure(1)\n",
    "#             subplot(2,1,1)plot(sw_ave.xvalue, 'o')\n",
    "#             ylabel('S_w')\n",
    "#             subplot(2,1,2) semilogy(L_ave.xvalue)\n",
    "#             xlabel('x')\n",
    "#             ylabel('total mobility')\n",
    "#             drawnow\n",
    "#             plot(t, p.value(2), 'o') drawnow\n",
    "#             plot(L_ave.xvalue) drawnow\n",
    "            break\n",
    "        end\n",
    "        # step 1) calculate the average values\n",
    "#         sg_ave = arithmeticMean(meshvar, sg.value)\n",
    "        sw_ave = upwindMean(sw, -pgrad)\n",
    "        Lg = Lg_ave*faceEval(krg,sw_ave)\n",
    "        Lw = Lw_ave*faceEval(krw,sw_ave)\n",
    "\n",
    "        # step 2) calculate the pressure profile\n",
    "        L_ave = Lw+Lg\n",
    "        Meq = diffusionTerm(L_ave)\n",
    "        \n",
    "\n",
    "        # solve the linear system of equations and reshape the result\n",
    "        Mp = Meq + BCMp\n",
    "        RHSp = BCRHSp - RHSs # the whole continuity is multiplied by a minus sign\n",
    "        p_new = solvePDE(meshvar, Mp, RHSp)\n",
    "#         P = Mp\\RHSp\n",
    "#         p.value = reshape(full(P), m+2, n+2)\n",
    "\n",
    "        pgrad = gradientTerm(p_new)\n",
    "        error1=1e5\n",
    "#         while error1>eps_sw\n",
    "        for i = 1:3\n",
    "            sw_ave = upwindMean(sw, -pgrad)\n",
    "    #         Lg = Lg_ave.*krg(sw_ave)\n",
    "            Lw = Lw_ave*faceEval(krw,sw_ave)\n",
    "    #         sw_ave = upwindMean(meshvar, -pgrad, sw.value)\n",
    "        #     sw_ave = arithmeticMean(meshvar, sw.value)\n",
    "    #         Lw = Lw_ave.*krw(sw_ave)\n",
    "        #     Lo = Lo_ave.*kro(sw_ave)\n",
    "            # step 3) calculate the new value of sw\n",
    "            (Mtrans, RHStrans) = transientTerm(sw_old, dt, poros)\n",
    "            u = -faceEval(dkrwdsw,sw_ave)*Lw_ave*pgrad\n",
    "            Mconv = convectionUpwindTerm(u)\n",
    "    #       Mconv = convectionTerm(meshvar, u)\n",
    "            facevar = (-Lw+faceEval(dkrwdsw,sw_ave)*Lw_ave*sw_ave)*pgrad\n",
    "            RHSdiv = divergenceTerm(facevar)\n",
    "            (BCM, BCRHS) = boundaryConditionTerm(BCs)\n",
    "\n",
    "            # construct the linear system\n",
    "            M = Mtrans+Mconv+BCM\n",
    "            RHS = RHStrans+BCRHS-RHSdiv+RHSs\n",
    "            sw_new = solveLinearPDE(meshvar, M, RHS)\n",
    "    #         SG = M\\RHS\n",
    "    #         sg_new = reshape(full(SG), m+2, n+2)\n",
    "            error1 = sum(abs.(sw_new.value .- sw.value))\n",
    "#             sw.value = 0.3*sw_new+0.7*sw.value\n",
    "            sw=copyCell(sw_new)\n",
    "        end\n",
    "        error2 = maximum(abs.(p_new.value .- p.value)./p_new.value)\n",
    "#         p.value = 0.1*p.value+0.9*p_new\n",
    "        p = copyCell(p_new)\n",
    "    end\n",
    "\n",
    "end"
   ]
  },
  {
   "cell_type": "code",
   "execution_count": 26,
   "metadata": {},
   "outputs": [
    {
     "data": {
      "image/svg+xml": [
       "<?xml version=\"1.0\" encoding=\"utf-8\"?>\n",
       "<svg xmlns=\"http://www.w3.org/2000/svg\" xmlns:xlink=\"http://www.w3.org/1999/xlink\" width=\"600\" height=\"400\" viewBox=\"0 0 2400 1600\">\n",
       "<defs>\n",
       "  <clipPath id=\"clip980\">\n",
       "    <rect x=\"0\" y=\"0\" width=\"2400\" height=\"1600\"/>\n",
       "  </clipPath>\n",
       "</defs>\n",
       "<path clip-path=\"url(#clip980)\" d=\"\n",
       "M0 1600 L2400 1600 L2400 0 L0 0  Z\n",
       "  \" fill=\"#ffffff\" fill-rule=\"evenodd\" fill-opacity=\"1\"/>\n",
       "<defs>\n",
       "  <clipPath id=\"clip981\">\n",
       "    <rect x=\"480\" y=\"0\" width=\"1681\" height=\"1600\"/>\n",
       "  </clipPath>\n",
       "</defs>\n",
       "<path clip-path=\"url(#clip980)\" d=\"\n",
       "M339.627 1423.18 L2352.76 1423.18 L2352.76 47.2441 L339.627 47.2441  Z\n",
       "  \" fill=\"#ffffff\" fill-rule=\"evenodd\" fill-opacity=\"1\"/>\n",
       "<defs>\n",
       "  <clipPath id=\"clip982\">\n",
       "    <rect x=\"339\" y=\"47\" width=\"2014\" height=\"1377\"/>\n",
       "  </clipPath>\n",
       "</defs>\n",
       "<polyline clip-path=\"url(#clip982)\" style=\"stroke:#000000; stroke-linecap:round; stroke-linejoin:round; stroke-width:2; stroke-opacity:0.1; fill:none\" points=\"\n",
       "  394.594,1423.18 394.594,47.2441 \n",
       "  \"/>\n",
       "<polyline clip-path=\"url(#clip982)\" style=\"stroke:#000000; stroke-linecap:round; stroke-linejoin:round; stroke-width:2; stroke-opacity:0.1; fill:none\" points=\"\n",
       "  792.285,1423.18 792.285,47.2441 \n",
       "  \"/>\n",
       "<polyline clip-path=\"url(#clip982)\" style=\"stroke:#000000; stroke-linecap:round; stroke-linejoin:round; stroke-width:2; stroke-opacity:0.1; fill:none\" points=\"\n",
       "  1189.98,1423.18 1189.98,47.2441 \n",
       "  \"/>\n",
       "<polyline clip-path=\"url(#clip982)\" style=\"stroke:#000000; stroke-linecap:round; stroke-linejoin:round; stroke-width:2; stroke-opacity:0.1; fill:none\" points=\"\n",
       "  1587.67,1423.18 1587.67,47.2441 \n",
       "  \"/>\n",
       "<polyline clip-path=\"url(#clip982)\" style=\"stroke:#000000; stroke-linecap:round; stroke-linejoin:round; stroke-width:2; stroke-opacity:0.1; fill:none\" points=\"\n",
       "  1985.36,1423.18 1985.36,47.2441 \n",
       "  \"/>\n",
       "<polyline clip-path=\"url(#clip980)\" style=\"stroke:#000000; stroke-linecap:round; stroke-linejoin:round; stroke-width:4; stroke-opacity:1; fill:none\" points=\"\n",
       "  339.627,1423.18 2352.76,1423.18 \n",
       "  \"/>\n",
       "<polyline clip-path=\"url(#clip980)\" style=\"stroke:#000000; stroke-linecap:round; stroke-linejoin:round; stroke-width:4; stroke-opacity:1; fill:none\" points=\"\n",
       "  394.594,1423.18 394.594,1404.28 \n",
       "  \"/>\n",
       "<polyline clip-path=\"url(#clip980)\" style=\"stroke:#000000; stroke-linecap:round; stroke-linejoin:round; stroke-width:4; stroke-opacity:1; fill:none\" points=\"\n",
       "  792.285,1423.18 792.285,1404.28 \n",
       "  \"/>\n",
       "<polyline clip-path=\"url(#clip980)\" style=\"stroke:#000000; stroke-linecap:round; stroke-linejoin:round; stroke-width:4; stroke-opacity:1; fill:none\" points=\"\n",
       "  1189.98,1423.18 1189.98,1404.28 \n",
       "  \"/>\n",
       "<polyline clip-path=\"url(#clip980)\" style=\"stroke:#000000; stroke-linecap:round; stroke-linejoin:round; stroke-width:4; stroke-opacity:1; fill:none\" points=\"\n",
       "  1587.67,1423.18 1587.67,1404.28 \n",
       "  \"/>\n",
       "<polyline clip-path=\"url(#clip980)\" style=\"stroke:#000000; stroke-linecap:round; stroke-linejoin:round; stroke-width:4; stroke-opacity:1; fill:none\" points=\"\n",
       "  1985.36,1423.18 1985.36,1404.28 \n",
       "  \"/>\n",
       "<path clip-path=\"url(#clip980)\" d=\"M371.978 1454.1 Q368.367 1454.1 366.538 1457.66 Q364.733 1461.2 364.733 1468.33 Q364.733 1475.44 366.538 1479.01 Q368.367 1482.55 371.978 1482.55 Q375.612 1482.55 377.418 1479.01 Q379.247 1475.44 379.247 1468.33 Q379.247 1461.2 377.418 1457.66 Q375.612 1454.1 371.978 1454.1 M371.978 1450.39 Q377.788 1450.39 380.844 1455 Q383.922 1459.58 383.922 1468.33 Q383.922 1477.06 380.844 1481.67 Q377.788 1486.25 371.978 1486.25 Q366.168 1486.25 363.089 1481.67 Q360.034 1477.06 360.034 1468.33 Q360.034 1459.58 363.089 1455 Q366.168 1450.39 371.978 1450.39 Z\" fill=\"#000000\" fill-rule=\"evenodd\" fill-opacity=\"1\" /><path clip-path=\"url(#clip980)\" d=\"M392.14 1479.7 L397.024 1479.7 L397.024 1485.58 L392.14 1485.58 L392.14 1479.7 Z\" fill=\"#000000\" fill-rule=\"evenodd\" fill-opacity=\"1\" /><path clip-path=\"url(#clip980)\" d=\"M417.209 1454.1 Q413.598 1454.1 411.77 1457.66 Q409.964 1461.2 409.964 1468.33 Q409.964 1475.44 411.77 1479.01 Q413.598 1482.55 417.209 1482.55 Q420.844 1482.55 422.649 1479.01 Q424.478 1475.44 424.478 1468.33 Q424.478 1461.2 422.649 1457.66 Q420.844 1454.1 417.209 1454.1 M417.209 1450.39 Q423.019 1450.39 426.075 1455 Q429.154 1459.58 429.154 1468.33 Q429.154 1477.06 426.075 1481.67 Q423.019 1486.25 417.209 1486.25 Q411.399 1486.25 408.32 1481.67 Q405.265 1477.06 405.265 1468.33 Q405.265 1459.58 408.32 1455 Q411.399 1450.39 417.209 1450.39 Z\" fill=\"#000000\" fill-rule=\"evenodd\" fill-opacity=\"1\" /><path clip-path=\"url(#clip980)\" d=\"M770.468 1454.1 Q766.857 1454.1 765.029 1457.66 Q763.223 1461.2 763.223 1468.33 Q763.223 1475.44 765.029 1479.01 Q766.857 1482.55 770.468 1482.55 Q774.103 1482.55 775.908 1479.01 Q777.737 1475.44 777.737 1468.33 Q777.737 1461.2 775.908 1457.66 Q774.103 1454.1 770.468 1454.1 M770.468 1450.39 Q776.278 1450.39 779.334 1455 Q782.413 1459.58 782.413 1468.33 Q782.413 1477.06 779.334 1481.67 Q776.278 1486.25 770.468 1486.25 Q764.658 1486.25 761.579 1481.67 Q758.524 1477.06 758.524 1468.33 Q758.524 1459.58 761.579 1455 Q764.658 1450.39 770.468 1450.39 Z\" fill=\"#000000\" fill-rule=\"evenodd\" fill-opacity=\"1\" /><path clip-path=\"url(#clip980)\" d=\"M790.63 1479.7 L795.514 1479.7 L795.514 1485.58 L790.63 1485.58 L790.63 1479.7 Z\" fill=\"#000000\" fill-rule=\"evenodd\" fill-opacity=\"1\" /><path clip-path=\"url(#clip980)\" d=\"M809.727 1481.64 L826.047 1481.64 L826.047 1485.58 L804.102 1485.58 L804.102 1481.64 Q806.764 1478.89 811.348 1474.26 Q815.954 1469.61 817.135 1468.27 Q819.38 1465.74 820.26 1464.01 Q821.162 1462.25 821.162 1460.56 Q821.162 1457.8 819.218 1456.07 Q817.297 1454.33 814.195 1454.33 Q811.996 1454.33 809.542 1455.09 Q807.112 1455.86 804.334 1457.41 L804.334 1452.69 Q807.158 1451.55 809.612 1450.97 Q812.065 1450.39 814.102 1450.39 Q819.473 1450.39 822.667 1453.08 Q825.862 1455.77 825.862 1460.26 Q825.862 1462.39 825.051 1464.31 Q824.264 1466.2 822.158 1468.8 Q821.579 1469.47 818.477 1472.69 Q815.375 1475.88 809.727 1481.64 Z\" fill=\"#000000\" fill-rule=\"evenodd\" fill-opacity=\"1\" /><path clip-path=\"url(#clip980)\" d=\"M1167.12 1454.1 Q1163.51 1454.1 1161.68 1457.66 Q1159.87 1461.2 1159.87 1468.33 Q1159.87 1475.44 1161.68 1479.01 Q1163.51 1482.55 1167.12 1482.55 Q1170.75 1482.55 1172.56 1479.01 Q1174.39 1475.44 1174.39 1468.33 Q1174.39 1461.2 1172.56 1457.66 Q1170.75 1454.1 1167.12 1454.1 M1167.12 1450.39 Q1172.93 1450.39 1175.98 1455 Q1179.06 1459.58 1179.06 1468.33 Q1179.06 1477.06 1175.98 1481.67 Q1172.93 1486.25 1167.12 1486.25 Q1161.31 1486.25 1158.23 1481.67 Q1155.17 1477.06 1155.17 1468.33 Q1155.17 1459.58 1158.23 1455 Q1161.31 1450.39 1167.12 1450.39 Z\" fill=\"#000000\" fill-rule=\"evenodd\" fill-opacity=\"1\" /><path clip-path=\"url(#clip980)\" d=\"M1187.28 1479.7 L1192.16 1479.7 L1192.16 1485.58 L1187.28 1485.58 L1187.28 1479.7 Z\" fill=\"#000000\" fill-rule=\"evenodd\" fill-opacity=\"1\" /><path clip-path=\"url(#clip980)\" d=\"M1215.2 1455.09 L1203.39 1473.54 L1215.2 1473.54 L1215.2 1455.09 M1213.97 1451.02 L1219.85 1451.02 L1219.85 1473.54 L1224.78 1473.54 L1224.78 1477.43 L1219.85 1477.43 L1219.85 1485.58 L1215.2 1485.58 L1215.2 1477.43 L1199.59 1477.43 L1199.59 1472.92 L1213.97 1451.02 Z\" fill=\"#000000\" fill-rule=\"evenodd\" fill-opacity=\"1\" /><path clip-path=\"url(#clip980)\" d=\"M1564.97 1454.1 Q1561.36 1454.1 1559.53 1457.66 Q1557.73 1461.2 1557.73 1468.33 Q1557.73 1475.44 1559.53 1479.01 Q1561.36 1482.55 1564.97 1482.55 Q1568.61 1482.55 1570.41 1479.01 Q1572.24 1475.44 1572.24 1468.33 Q1572.24 1461.2 1570.41 1457.66 Q1568.61 1454.1 1564.97 1454.1 M1564.97 1450.39 Q1570.78 1450.39 1573.84 1455 Q1576.92 1459.58 1576.92 1468.33 Q1576.92 1477.06 1573.84 1481.67 Q1570.78 1486.25 1564.97 1486.25 Q1559.16 1486.25 1556.08 1481.67 Q1553.03 1477.06 1553.03 1468.33 Q1553.03 1459.58 1556.08 1455 Q1559.16 1450.39 1564.97 1450.39 Z\" fill=\"#000000\" fill-rule=\"evenodd\" fill-opacity=\"1\" /><path clip-path=\"url(#clip980)\" d=\"M1585.13 1479.7 L1590.02 1479.7 L1590.02 1485.58 L1585.13 1485.58 L1585.13 1479.7 Z\" fill=\"#000000\" fill-rule=\"evenodd\" fill-opacity=\"1\" /><path clip-path=\"url(#clip980)\" d=\"M1610.78 1466.44 Q1607.63 1466.44 1605.78 1468.59 Q1603.95 1470.74 1603.95 1474.49 Q1603.95 1478.22 1605.78 1480.39 Q1607.63 1482.55 1610.78 1482.55 Q1613.93 1482.55 1615.76 1480.39 Q1617.61 1478.22 1617.61 1474.49 Q1617.61 1470.74 1615.76 1468.59 Q1613.93 1466.44 1610.78 1466.44 M1620.06 1451.78 L1620.06 1456.04 Q1618.3 1455.21 1616.5 1454.77 Q1614.72 1454.33 1612.96 1454.33 Q1608.33 1454.33 1605.87 1457.45 Q1603.44 1460.58 1603.1 1466.9 Q1604.46 1464.89 1606.52 1463.82 Q1608.58 1462.73 1611.06 1462.73 Q1616.27 1462.73 1619.28 1465.9 Q1622.31 1469.05 1622.31 1474.49 Q1622.31 1479.82 1619.16 1483.03 Q1616.01 1486.25 1610.78 1486.25 Q1604.79 1486.25 1601.62 1481.67 Q1598.44 1477.06 1598.44 1468.33 Q1598.44 1460.14 1602.33 1455.28 Q1606.22 1450.39 1612.77 1450.39 Q1614.53 1450.39 1616.31 1450.74 Q1618.12 1451.09 1620.06 1451.78 Z\" fill=\"#000000\" fill-rule=\"evenodd\" fill-opacity=\"1\" /><path clip-path=\"url(#clip980)\" d=\"M1962.79 1454.1 Q1959.18 1454.1 1957.35 1457.66 Q1955.55 1461.2 1955.55 1468.33 Q1955.55 1475.44 1957.35 1479.01 Q1959.18 1482.55 1962.79 1482.55 Q1966.43 1482.55 1968.23 1479.01 Q1970.06 1475.44 1970.06 1468.33 Q1970.06 1461.2 1968.23 1457.66 Q1966.43 1454.1 1962.79 1454.1 M1962.79 1450.39 Q1968.6 1450.39 1971.66 1455 Q1974.74 1459.58 1974.74 1468.33 Q1974.74 1477.06 1971.66 1481.67 Q1968.6 1486.25 1962.79 1486.25 Q1956.98 1486.25 1953.9 1481.67 Q1950.85 1477.06 1950.85 1468.33 Q1950.85 1459.58 1953.9 1455 Q1956.98 1450.39 1962.79 1450.39 Z\" fill=\"#000000\" fill-rule=\"evenodd\" fill-opacity=\"1\" /><path clip-path=\"url(#clip980)\" d=\"M1982.95 1479.7 L1987.84 1479.7 L1987.84 1485.58 L1982.95 1485.58 L1982.95 1479.7 Z\" fill=\"#000000\" fill-rule=\"evenodd\" fill-opacity=\"1\" /><path clip-path=\"url(#clip980)\" d=\"M2008.02 1469.17 Q2004.69 1469.17 2002.77 1470.95 Q2000.87 1472.73 2000.87 1475.86 Q2000.87 1478.98 2002.77 1480.77 Q2004.69 1482.55 2008.02 1482.55 Q2011.36 1482.55 2013.28 1480.77 Q2015.2 1478.96 2015.2 1475.86 Q2015.2 1472.73 2013.28 1470.95 Q2011.38 1469.17 2008.02 1469.17 M2003.35 1467.18 Q2000.34 1466.44 1998.65 1464.38 Q1996.98 1462.32 1996.98 1459.35 Q1996.98 1455.21 1999.92 1452.8 Q2002.88 1450.39 2008.02 1450.39 Q2013.18 1450.39 2016.12 1452.8 Q2019.06 1455.21 2019.06 1459.35 Q2019.06 1462.32 2017.37 1464.38 Q2015.71 1466.44 2012.72 1467.18 Q2016.1 1467.96 2017.98 1470.26 Q2019.87 1472.55 2019.87 1475.86 Q2019.87 1480.88 2016.8 1483.57 Q2013.74 1486.25 2008.02 1486.25 Q2002.3 1486.25 1999.23 1483.57 Q1996.17 1480.88 1996.17 1475.86 Q1996.17 1472.55 1998.07 1470.26 Q1999.97 1467.96 2003.35 1467.18 M2001.63 1459.79 Q2001.63 1462.48 2003.3 1463.98 Q2004.99 1465.49 2008.02 1465.49 Q2011.03 1465.49 2012.72 1463.98 Q2014.43 1462.48 2014.43 1459.79 Q2014.43 1457.11 2012.72 1455.6 Q2011.03 1454.1 2008.02 1454.1 Q2004.99 1454.1 2003.3 1455.6 Q2001.63 1457.11 2001.63 1459.79 Z\" fill=\"#000000\" fill-rule=\"evenodd\" fill-opacity=\"1\" /><path clip-path=\"url(#clip980)\" d=\"M1131.92 1524.18 L1131.92 1530.96 Q1128.68 1527.94 1124.98 1526.44 Q1121.32 1524.95 1117.19 1524.95 Q1109.04 1524.95 1104.71 1529.95 Q1100.38 1534.91 1100.38 1544.33 Q1100.38 1553.72 1104.71 1558.72 Q1109.04 1563.68 1117.19 1563.68 Q1121.32 1563.68 1124.98 1562.19 Q1128.68 1560.69 1131.92 1557.67 L1131.92 1564.38 Q1128.55 1566.68 1124.76 1567.82 Q1121 1568.97 1116.8 1568.97 Q1106.01 1568.97 1099.81 1562.38 Q1093.6 1555.76 1093.6 1544.33 Q1093.6 1532.87 1099.81 1526.28 Q1106.01 1519.66 1116.8 1519.66 Q1121.07 1519.66 1124.82 1520.81 Q1128.61 1521.92 1131.92 1524.18 Z\" fill=\"#000000\" fill-rule=\"evenodd\" fill-opacity=\"1\" /><path clip-path=\"url(#clip980)\" d=\"M1155.41 1536.5 Q1150.7 1536.5 1147.96 1540.19 Q1145.23 1543.85 1145.23 1550.25 Q1145.23 1556.65 1147.93 1560.34 Q1150.67 1564 1155.41 1564 Q1160.09 1564 1162.83 1560.31 Q1165.56 1556.62 1165.56 1550.25 Q1165.56 1543.92 1162.83 1540.23 Q1160.09 1536.5 1155.41 1536.5 M1155.41 1531.54 Q1163.05 1531.54 1167.41 1536.5 Q1171.77 1541.47 1171.77 1550.25 Q1171.77 1559 1167.41 1564 Q1163.05 1568.97 1155.41 1568.97 Q1147.74 1568.97 1143.38 1564 Q1139.05 1559 1139.05 1550.25 Q1139.05 1541.47 1143.38 1536.5 Q1147.74 1531.54 1155.41 1531.54 Z\" fill=\"#000000\" fill-rule=\"evenodd\" fill-opacity=\"1\" /><path clip-path=\"url(#clip980)\" d=\"M1202.14 1537.87 Q1201.15 1537.3 1199.97 1537.04 Q1198.83 1536.76 1197.42 1536.76 Q1192.46 1536.76 1189.79 1540 Q1187.14 1543.22 1187.14 1549.27 L1187.14 1568.04 L1181.26 1568.04 L1181.26 1532.4 L1187.14 1532.4 L1187.14 1537.93 Q1188.99 1534.69 1191.95 1533.13 Q1194.91 1531.54 1199.14 1531.54 Q1199.75 1531.54 1200.48 1531.63 Q1201.21 1531.7 1202.1 1531.85 L1202.14 1537.87 Z\" fill=\"#000000\" fill-rule=\"evenodd\" fill-opacity=\"1\" /><path clip-path=\"url(#clip980)\" d=\"M1237.34 1548.76 L1237.34 1551.62 L1210.41 1551.62 Q1210.79 1557.67 1214.04 1560.85 Q1217.32 1564 1223.14 1564 Q1226.52 1564 1229.67 1563.17 Q1232.85 1562.35 1235.97 1560.69 L1235.97 1566.23 Q1232.82 1567.57 1229.51 1568.27 Q1226.2 1568.97 1222.79 1568.97 Q1214.26 1568.97 1209.27 1564 Q1204.3 1559.04 1204.3 1550.57 Q1204.3 1541.82 1209.01 1536.69 Q1213.75 1531.54 1221.77 1531.54 Q1228.97 1531.54 1233.14 1536.18 Q1237.34 1540.8 1237.34 1548.76 M1231.48 1547.04 Q1231.42 1542.23 1228.78 1539.37 Q1226.17 1536.5 1221.84 1536.5 Q1216.94 1536.5 1213.98 1539.27 Q1211.05 1542.04 1210.6 1547.07 L1231.48 1547.04 Z\" fill=\"#000000\" fill-rule=\"evenodd\" fill-opacity=\"1\" /><path clip-path=\"url(#clip980)\" d=\"M1267.67 1518.52 L1273.53 1518.52 L1273.53 1568.04 L1267.67 1568.04 L1267.67 1518.52 Z\" fill=\"#000000\" fill-rule=\"evenodd\" fill-opacity=\"1\" /><path clip-path=\"url(#clip980)\" d=\"M1316.27 1548.76 L1316.27 1551.62 L1289.35 1551.62 Q1289.73 1557.67 1292.97 1560.85 Q1296.25 1564 1302.08 1564 Q1305.45 1564 1308.6 1563.17 Q1311.78 1562.35 1314.9 1560.69 L1314.9 1566.23 Q1311.75 1567.57 1308.44 1568.27 Q1305.13 1568.97 1301.73 1568.97 Q1293.2 1568.97 1288.2 1564 Q1283.23 1559.04 1283.23 1550.57 Q1283.23 1541.82 1287.95 1536.69 Q1292.69 1531.54 1300.71 1531.54 Q1307.9 1531.54 1312.07 1536.18 Q1316.27 1540.8 1316.27 1548.76 M1310.42 1547.04 Q1310.35 1542.23 1307.71 1539.37 Q1305.1 1536.5 1300.77 1536.5 Q1295.87 1536.5 1292.91 1539.27 Q1289.98 1542.04 1289.54 1547.07 L1310.42 1547.04 Z\" fill=\"#000000\" fill-rule=\"evenodd\" fill-opacity=\"1\" /><path clip-path=\"url(#clip980)\" d=\"M1355.52 1546.53 L1355.52 1568.04 L1349.66 1568.04 L1349.66 1546.72 Q1349.66 1541.66 1347.69 1539.14 Q1345.71 1536.63 1341.77 1536.63 Q1337.02 1536.63 1334.29 1539.65 Q1331.55 1542.68 1331.55 1547.9 L1331.55 1568.04 L1325.66 1568.04 L1325.66 1532.4 L1331.55 1532.4 L1331.55 1537.93 Q1333.65 1534.72 1336.48 1533.13 Q1339.35 1531.54 1343.07 1531.54 Q1349.22 1531.54 1352.37 1535.36 Q1355.52 1539.14 1355.52 1546.53 Z\" fill=\"#000000\" fill-rule=\"evenodd\" fill-opacity=\"1\" /><path clip-path=\"url(#clip980)\" d=\"M1390.66 1549.81 Q1390.66 1543.44 1388.01 1539.94 Q1385.4 1536.44 1380.66 1536.44 Q1375.95 1536.44 1373.31 1539.94 Q1370.7 1543.44 1370.7 1549.81 Q1370.7 1556.14 1373.31 1559.64 Q1375.95 1563.14 1380.66 1563.14 Q1385.4 1563.14 1388.01 1559.64 Q1390.66 1556.14 1390.66 1549.81 M1396.51 1563.62 Q1396.51 1572.72 1392.47 1577.15 Q1388.43 1581.6 1380.09 1581.6 Q1377 1581.6 1374.26 1581.13 Q1371.53 1580.68 1368.95 1579.72 L1368.95 1574.03 Q1371.53 1575.43 1374.04 1576.1 Q1376.56 1576.76 1379.17 1576.76 Q1384.93 1576.76 1387.79 1573.74 Q1390.66 1570.75 1390.66 1564.67 L1390.66 1561.77 Q1388.84 1564.92 1386.01 1566.48 Q1383.18 1568.04 1379.23 1568.04 Q1372.67 1568.04 1368.66 1563.05 Q1364.65 1558.05 1364.65 1549.81 Q1364.65 1541.53 1368.66 1536.53 Q1372.67 1531.54 1379.23 1531.54 Q1383.18 1531.54 1386.01 1533.1 Q1388.84 1534.66 1390.66 1537.81 L1390.66 1532.4 L1396.51 1532.4 L1396.51 1563.62 Z\" fill=\"#000000\" fill-rule=\"evenodd\" fill-opacity=\"1\" /><path clip-path=\"url(#clip980)\" d=\"M1414.37 1522.27 L1414.37 1532.4 L1426.43 1532.4 L1426.43 1536.95 L1414.37 1536.95 L1414.37 1556.3 Q1414.37 1560.66 1415.55 1561.9 Q1416.76 1563.14 1420.42 1563.14 L1426.43 1563.14 L1426.43 1568.04 L1420.42 1568.04 Q1413.64 1568.04 1411.06 1565.53 Q1408.48 1562.98 1408.48 1556.3 L1408.48 1536.95 L1404.18 1536.95 L1404.18 1532.4 L1408.48 1532.4 L1408.48 1522.27 L1414.37 1522.27 Z\" fill=\"#000000\" fill-rule=\"evenodd\" fill-opacity=\"1\" /><path clip-path=\"url(#clip980)\" d=\"M1463.77 1546.53 L1463.77 1568.04 L1457.91 1568.04 L1457.91 1546.72 Q1457.91 1541.66 1455.94 1539.14 Q1453.96 1536.63 1450.02 1536.63 Q1445.27 1536.63 1442.54 1539.65 Q1439.8 1542.68 1439.8 1547.9 L1439.8 1568.04 L1433.91 1568.04 L1433.91 1518.52 L1439.8 1518.52 L1439.8 1537.93 Q1441.9 1534.72 1444.73 1533.13 Q1447.6 1531.54 1451.32 1531.54 Q1457.46 1531.54 1460.61 1535.36 Q1463.77 1539.14 1463.77 1546.53 Z\" fill=\"#000000\" fill-rule=\"evenodd\" fill-opacity=\"1\" /><path clip-path=\"url(#clip980)\" d=\"M1495.63 1518.52 L1509.12 1518.52 L1509.12 1523.07 L1501.48 1523.07 L1501.48 1572.09 L1509.12 1572.09 L1509.12 1576.64 L1495.63 1576.64 L1495.63 1518.52 Z\" fill=\"#000000\" fill-rule=\"evenodd\" fill-opacity=\"1\" /><path clip-path=\"url(#clip980)\" d=\"M1549.35 1539.24 Q1551.55 1535.29 1554.6 1533.41 Q1557.66 1531.54 1561.8 1531.54 Q1567.37 1531.54 1570.39 1535.45 Q1573.42 1539.33 1573.42 1546.53 L1573.42 1568.04 L1567.53 1568.04 L1567.53 1546.72 Q1567.53 1541.59 1565.71 1539.11 Q1563.9 1536.63 1560.17 1536.63 Q1555.62 1536.63 1552.98 1539.65 Q1550.34 1542.68 1550.34 1547.9 L1550.34 1568.04 L1544.45 1568.04 L1544.45 1546.72 Q1544.45 1541.56 1542.64 1539.11 Q1540.82 1536.63 1537.04 1536.63 Q1532.55 1536.63 1529.91 1539.68 Q1527.26 1542.71 1527.26 1547.9 L1527.26 1568.04 L1521.38 1568.04 L1521.38 1532.4 L1527.26 1532.4 L1527.26 1537.93 Q1529.27 1534.66 1532.07 1533.1 Q1534.87 1531.54 1538.72 1531.54 Q1542.61 1531.54 1545.31 1533.51 Q1548.05 1535.48 1549.35 1539.24 Z\" fill=\"#000000\" fill-rule=\"evenodd\" fill-opacity=\"1\" /><path clip-path=\"url(#clip980)\" d=\"M1598.78 1518.52 L1598.78 1576.64 L1585.29 1576.64 L1585.29 1572.09 L1592.89 1572.09 L1592.89 1523.07 L1585.29 1523.07 L1585.29 1518.52 L1598.78 1518.52 Z\" fill=\"#000000\" fill-rule=\"evenodd\" fill-opacity=\"1\" /><polyline clip-path=\"url(#clip982)\" style=\"stroke:#000000; stroke-linecap:round; stroke-linejoin:round; stroke-width:2; stroke-opacity:0.1; fill:none\" points=\"\n",
       "  339.627,1207.33 2352.76,1207.33 \n",
       "  \"/>\n",
       "<polyline clip-path=\"url(#clip982)\" style=\"stroke:#000000; stroke-linecap:round; stroke-linejoin:round; stroke-width:2; stroke-opacity:0.1; fill:none\" points=\"\n",
       "  339.627,947.389 2352.76,947.389 \n",
       "  \"/>\n",
       "<polyline clip-path=\"url(#clip982)\" style=\"stroke:#000000; stroke-linecap:round; stroke-linejoin:round; stroke-width:2; stroke-opacity:0.1; fill:none\" points=\"\n",
       "  339.627,687.445 2352.76,687.445 \n",
       "  \"/>\n",
       "<polyline clip-path=\"url(#clip982)\" style=\"stroke:#000000; stroke-linecap:round; stroke-linejoin:round; stroke-width:2; stroke-opacity:0.1; fill:none\" points=\"\n",
       "  339.627,427.501 2352.76,427.501 \n",
       "  \"/>\n",
       "<polyline clip-path=\"url(#clip982)\" style=\"stroke:#000000; stroke-linecap:round; stroke-linejoin:round; stroke-width:2; stroke-opacity:0.1; fill:none\" points=\"\n",
       "  339.627,167.558 2352.76,167.558 \n",
       "  \"/>\n",
       "<polyline clip-path=\"url(#clip980)\" style=\"stroke:#000000; stroke-linecap:round; stroke-linejoin:round; stroke-width:4; stroke-opacity:1; fill:none\" points=\"\n",
       "  339.627,1423.18 339.627,47.2441 \n",
       "  \"/>\n",
       "<polyline clip-path=\"url(#clip980)\" style=\"stroke:#000000; stroke-linecap:round; stroke-linejoin:round; stroke-width:4; stroke-opacity:1; fill:none\" points=\"\n",
       "  339.627,1207.33 358.525,1207.33 \n",
       "  \"/>\n",
       "<polyline clip-path=\"url(#clip980)\" style=\"stroke:#000000; stroke-linecap:round; stroke-linejoin:round; stroke-width:4; stroke-opacity:1; fill:none\" points=\"\n",
       "  339.627,947.389 358.525,947.389 \n",
       "  \"/>\n",
       "<polyline clip-path=\"url(#clip980)\" style=\"stroke:#000000; stroke-linecap:round; stroke-linejoin:round; stroke-width:4; stroke-opacity:1; fill:none\" points=\"\n",
       "  339.627,687.445 358.525,687.445 \n",
       "  \"/>\n",
       "<polyline clip-path=\"url(#clip980)\" style=\"stroke:#000000; stroke-linecap:round; stroke-linejoin:round; stroke-width:4; stroke-opacity:1; fill:none\" points=\"\n",
       "  339.627,427.501 358.525,427.501 \n",
       "  \"/>\n",
       "<polyline clip-path=\"url(#clip980)\" style=\"stroke:#000000; stroke-linecap:round; stroke-linejoin:round; stroke-width:4; stroke-opacity:1; fill:none\" points=\"\n",
       "  339.627,167.558 358.525,167.558 \n",
       "  \"/>\n",
       "<path clip-path=\"url(#clip980)\" d=\"M117.825 1227.12 L125.464 1227.12 L125.464 1200.76 L117.154 1202.43 L117.154 1198.17 L125.418 1196.5 L130.093 1196.5 L130.093 1227.12 L137.732 1227.12 L137.732 1231.06 L117.825 1231.06 L117.825 1227.12 Z\" fill=\"#000000\" fill-rule=\"evenodd\" fill-opacity=\"1\" /><path clip-path=\"url(#clip980)\" d=\"M147.177 1225.18 L152.061 1225.18 L152.061 1231.06 L147.177 1231.06 L147.177 1225.18 Z\" fill=\"#000000\" fill-rule=\"evenodd\" fill-opacity=\"1\" /><path clip-path=\"url(#clip980)\" d=\"M172.246 1199.58 Q168.635 1199.58 166.806 1203.14 Q165.001 1206.68 165.001 1213.81 Q165.001 1220.92 166.806 1224.49 Q168.635 1228.03 172.246 1228.03 Q175.88 1228.03 177.686 1224.49 Q179.514 1220.92 179.514 1213.81 Q179.514 1206.68 177.686 1203.14 Q175.88 1199.58 172.246 1199.58 M172.246 1195.87 Q178.056 1195.87 181.112 1200.48 Q184.19 1205.06 184.19 1213.81 Q184.19 1222.54 181.112 1227.15 Q178.056 1231.73 172.246 1231.73 Q166.436 1231.73 163.357 1227.15 Q160.302 1222.54 160.302 1213.81 Q160.302 1205.06 163.357 1200.48 Q166.436 1195.87 172.246 1195.87 Z\" fill=\"#000000\" fill-rule=\"evenodd\" fill-opacity=\"1\" /><path clip-path=\"url(#clip980)\" d=\"M220.579 1205.6 L210 1216.22 L220.579 1226.8 L217.824 1229.6 L207.199 1218.98 L196.575 1229.6 L193.843 1226.8 L204.399 1216.22 L193.843 1205.6 L196.575 1202.8 L207.199 1213.42 L217.824 1202.8 L220.579 1205.6 Z\" fill=\"#000000\" fill-rule=\"evenodd\" fill-opacity=\"1\" /><path clip-path=\"url(#clip980)\" d=\"M232.94 1227.12 L240.579 1227.12 L240.579 1200.76 L232.269 1202.43 L232.269 1198.17 L240.533 1196.5 L245.209 1196.5 L245.209 1227.12 L252.847 1227.12 L252.847 1231.06 L232.94 1231.06 L232.94 1227.12 Z\" fill=\"#000000\" fill-rule=\"evenodd\" fill-opacity=\"1\" /><path clip-path=\"url(#clip980)\" d=\"M272.292 1199.58 Q268.681 1199.58 266.852 1203.14 Q265.046 1206.68 265.046 1213.81 Q265.046 1220.92 266.852 1224.49 Q268.681 1228.03 272.292 1228.03 Q275.926 1228.03 277.732 1224.49 Q279.56 1220.92 279.56 1213.81 Q279.56 1206.68 277.732 1203.14 Q275.926 1199.58 272.292 1199.58 M272.292 1195.87 Q278.102 1195.87 281.157 1200.48 Q284.236 1205.06 284.236 1213.81 Q284.236 1222.54 281.157 1227.15 Q278.102 1231.73 272.292 1231.73 Q266.482 1231.73 263.403 1227.15 Q260.347 1222.54 260.347 1213.81 Q260.347 1205.06 263.403 1200.48 Q266.482 1195.87 272.292 1195.87 Z\" fill=\"#000000\" fill-rule=\"evenodd\" fill-opacity=\"1\" /><path clip-path=\"url(#clip980)\" d=\"M294.261 1188.1 Q291.703 1188.1 290.198 1189.84 Q288.712 1191.59 288.712 1194.64 Q288.712 1197.67 290.198 1199.44 Q291.703 1201.19 294.261 1201.19 Q296.818 1201.19 298.304 1199.44 Q299.809 1197.67 299.809 1194.64 Q299.809 1191.59 298.304 1189.84 Q296.818 1188.1 294.261 1188.1 M301.803 1176.19 L301.803 1179.65 Q300.373 1178.97 298.906 1178.62 Q297.458 1178.26 296.029 1178.26 Q292.267 1178.26 290.273 1180.8 Q288.299 1183.34 288.016 1188.47 Q289.126 1186.84 290.8 1185.97 Q292.474 1185.09 294.486 1185.09 Q298.718 1185.09 301.163 1187.66 Q303.627 1190.22 303.627 1194.64 Q303.627 1198.97 301.069 1201.58 Q298.511 1204.19 294.261 1204.19 Q289.389 1204.19 286.813 1200.47 Q284.236 1196.73 284.236 1189.64 Q284.236 1182.98 287.396 1179.03 Q290.556 1175.06 295.878 1175.06 Q297.307 1175.06 298.756 1175.34 Q300.223 1175.63 301.803 1176.19 Z\" fill=\"#000000\" fill-rule=\"evenodd\" fill-opacity=\"1\" /><path clip-path=\"url(#clip980)\" d=\"M121.043 967.181 L137.362 967.181 L137.362 971.116 L115.418 971.116 L115.418 967.181 Q118.08 964.426 122.663 959.797 Q127.269 955.144 128.45 953.801 Q130.695 951.278 131.575 949.542 Q132.478 947.783 132.478 946.093 Q132.478 943.339 130.533 941.602 Q128.612 939.866 125.51 939.866 Q123.311 939.866 120.857 940.63 Q118.427 941.394 115.649 942.945 L115.649 938.223 Q118.473 937.089 120.927 936.51 Q123.38 935.931 125.418 935.931 Q130.788 935.931 133.982 938.616 Q137.177 941.302 137.177 945.792 Q137.177 947.922 136.367 949.843 Q135.579 951.741 133.473 954.334 Q132.894 955.005 129.792 958.223 Q126.691 961.417 121.043 967.181 Z\" fill=\"#000000\" fill-rule=\"evenodd\" fill-opacity=\"1\" /><path clip-path=\"url(#clip980)\" d=\"M147.177 965.237 L152.061 965.237 L152.061 971.116 L147.177 971.116 L147.177 965.237 Z\" fill=\"#000000\" fill-rule=\"evenodd\" fill-opacity=\"1\" /><path clip-path=\"url(#clip980)\" d=\"M172.246 939.635 Q168.635 939.635 166.806 943.2 Q165.001 946.741 165.001 953.871 Q165.001 960.977 166.806 964.542 Q168.635 968.084 172.246 968.084 Q175.88 968.084 177.686 964.542 Q179.514 960.977 179.514 953.871 Q179.514 946.741 177.686 943.2 Q175.88 939.635 172.246 939.635 M172.246 935.931 Q178.056 935.931 181.112 940.538 Q184.19 945.121 184.19 953.871 Q184.19 962.598 181.112 967.204 Q178.056 971.787 172.246 971.787 Q166.436 971.787 163.357 967.204 Q160.302 962.598 160.302 953.871 Q160.302 945.121 163.357 940.538 Q166.436 935.931 172.246 935.931 Z\" fill=\"#000000\" fill-rule=\"evenodd\" fill-opacity=\"1\" /><path clip-path=\"url(#clip980)\" d=\"M220.579 945.653 L210 956.278 L220.579 966.857 L217.824 969.658 L207.199 959.033 L196.575 969.658 L193.843 966.857 L204.399 956.278 L193.843 945.653 L196.575 942.852 L207.199 953.477 L217.824 942.852 L220.579 945.653 Z\" fill=\"#000000\" fill-rule=\"evenodd\" fill-opacity=\"1\" /><path clip-path=\"url(#clip980)\" d=\"M232.94 967.181 L240.579 967.181 L240.579 940.815 L232.269 942.482 L232.269 938.223 L240.533 936.556 L245.209 936.556 L245.209 967.181 L252.847 967.181 L252.847 971.116 L232.94 971.116 L232.94 967.181 Z\" fill=\"#000000\" fill-rule=\"evenodd\" fill-opacity=\"1\" /><path clip-path=\"url(#clip980)\" d=\"M272.292 939.635 Q268.681 939.635 266.852 943.2 Q265.046 946.741 265.046 953.871 Q265.046 960.977 266.852 964.542 Q268.681 968.084 272.292 968.084 Q275.926 968.084 277.732 964.542 Q279.56 960.977 279.56 953.871 Q279.56 946.741 277.732 943.2 Q275.926 939.635 272.292 939.635 M272.292 935.931 Q278.102 935.931 281.157 940.538 Q284.236 945.121 284.236 953.871 Q284.236 962.598 281.157 967.204 Q278.102 971.787 272.292 971.787 Q266.482 971.787 263.403 967.204 Q260.347 962.598 260.347 953.871 Q260.347 945.121 263.403 940.538 Q266.482 935.931 272.292 935.931 Z\" fill=\"#000000\" fill-rule=\"evenodd\" fill-opacity=\"1\" /><path clip-path=\"url(#clip980)\" d=\"M294.261 928.152 Q291.703 928.152 290.198 929.901 Q288.712 931.65 288.712 934.697 Q288.712 937.725 290.198 939.493 Q291.703 941.242 294.261 941.242 Q296.818 941.242 298.304 939.493 Q299.809 937.725 299.809 934.697 Q299.809 931.65 298.304 929.901 Q296.818 928.152 294.261 928.152 M301.803 916.246 L301.803 919.707 Q300.373 919.03 298.906 918.673 Q297.458 918.315 296.029 918.315 Q292.267 918.315 290.273 920.854 Q288.299 923.393 288.016 928.528 Q289.126 926.892 290.8 926.026 Q292.474 925.143 294.486 925.143 Q298.718 925.143 301.163 927.719 Q303.627 930.277 303.627 934.697 Q303.627 939.023 301.069 941.637 Q298.511 944.251 294.261 944.251 Q289.389 944.251 286.813 940.527 Q284.236 936.785 284.236 929.694 Q284.236 923.036 287.396 919.086 Q290.556 915.118 295.878 915.118 Q297.307 915.118 298.756 915.4 Q300.223 915.682 301.803 916.246 Z\" fill=\"#000000\" fill-rule=\"evenodd\" fill-opacity=\"1\" /><path clip-path=\"url(#clip980)\" d=\"M131.181 692.538 Q134.538 693.256 136.413 695.525 Q138.311 697.793 138.311 701.126 Q138.311 706.242 134.792 709.043 Q131.274 711.844 124.793 711.844 Q122.617 711.844 120.302 711.404 Q118.01 710.987 115.556 710.131 L115.556 705.617 Q117.501 706.751 119.816 707.33 Q122.13 707.909 124.654 707.909 Q129.052 707.909 131.343 706.173 Q133.658 704.437 133.658 701.126 Q133.658 698.071 131.505 696.358 Q129.376 694.622 125.556 694.622 L121.529 694.622 L121.529 690.779 L125.742 690.779 Q129.191 690.779 131.019 689.413 Q132.848 688.025 132.848 685.432 Q132.848 682.77 130.95 681.358 Q129.075 679.923 125.556 679.923 Q123.635 679.923 121.436 680.339 Q119.237 680.756 116.598 681.636 L116.598 677.469 Q119.26 676.728 121.575 676.358 Q123.913 675.988 125.973 675.988 Q131.297 675.988 134.399 678.418 Q137.501 680.826 137.501 684.946 Q137.501 687.816 135.857 689.807 Q134.214 691.775 131.181 692.538 Z\" fill=\"#000000\" fill-rule=\"evenodd\" fill-opacity=\"1\" /><path clip-path=\"url(#clip980)\" d=\"M147.177 705.293 L152.061 705.293 L152.061 711.173 L147.177 711.173 L147.177 705.293 Z\" fill=\"#000000\" fill-rule=\"evenodd\" fill-opacity=\"1\" /><path clip-path=\"url(#clip980)\" d=\"M172.246 679.691 Q168.635 679.691 166.806 683.256 Q165.001 686.798 165.001 693.927 Q165.001 701.034 166.806 704.599 Q168.635 708.14 172.246 708.14 Q175.88 708.14 177.686 704.599 Q179.514 701.034 179.514 693.927 Q179.514 686.798 177.686 683.256 Q175.88 679.691 172.246 679.691 M172.246 675.988 Q178.056 675.988 181.112 680.594 Q184.19 685.177 184.19 693.927 Q184.19 702.654 181.112 707.261 Q178.056 711.844 172.246 711.844 Q166.436 711.844 163.357 707.261 Q160.302 702.654 160.302 693.927 Q160.302 685.177 163.357 680.594 Q166.436 675.988 172.246 675.988 Z\" fill=\"#000000\" fill-rule=\"evenodd\" fill-opacity=\"1\" /><path clip-path=\"url(#clip980)\" d=\"M220.579 685.71 L210 696.335 L220.579 706.913 L217.824 709.714 L207.199 699.089 L196.575 709.714 L193.843 706.913 L204.399 696.335 L193.843 685.71 L196.575 682.909 L207.199 693.534 L217.824 682.909 L220.579 685.71 Z\" fill=\"#000000\" fill-rule=\"evenodd\" fill-opacity=\"1\" /><path clip-path=\"url(#clip980)\" d=\"M232.94 707.237 L240.579 707.237 L240.579 680.872 L232.269 682.538 L232.269 678.279 L240.533 676.613 L245.209 676.613 L245.209 707.237 L252.847 707.237 L252.847 711.173 L232.94 711.173 L232.94 707.237 Z\" fill=\"#000000\" fill-rule=\"evenodd\" fill-opacity=\"1\" /><path clip-path=\"url(#clip980)\" d=\"M272.292 679.691 Q268.681 679.691 266.852 683.256 Q265.046 686.798 265.046 693.927 Q265.046 701.034 266.852 704.599 Q268.681 708.14 272.292 708.14 Q275.926 708.14 277.732 704.599 Q279.56 701.034 279.56 693.927 Q279.56 686.798 277.732 683.256 Q275.926 679.691 272.292 679.691 M272.292 675.988 Q278.102 675.988 281.157 680.594 Q284.236 685.177 284.236 693.927 Q284.236 702.654 281.157 707.261 Q278.102 711.844 272.292 711.844 Q266.482 711.844 263.403 707.261 Q260.347 702.654 260.347 693.927 Q260.347 685.177 263.403 680.594 Q266.482 675.988 272.292 675.988 Z\" fill=\"#000000\" fill-rule=\"evenodd\" fill-opacity=\"1\" /><path clip-path=\"url(#clip980)\" d=\"M294.261 668.208 Q291.703 668.208 290.198 669.957 Q288.712 671.706 288.712 674.753 Q288.712 677.781 290.198 679.549 Q291.703 681.298 294.261 681.298 Q296.818 681.298 298.304 679.549 Q299.809 677.781 299.809 674.753 Q299.809 671.706 298.304 669.957 Q296.818 668.208 294.261 668.208 M301.803 656.303 L301.803 659.763 Q300.373 659.086 298.906 658.729 Q297.458 658.372 296.029 658.372 Q292.267 658.372 290.273 660.911 Q288.299 663.45 288.016 668.584 Q289.126 666.948 290.8 666.083 Q292.474 665.199 294.486 665.199 Q298.718 665.199 301.163 667.776 Q303.627 670.333 303.627 674.753 Q303.627 679.079 301.069 681.693 Q298.511 684.308 294.261 684.308 Q289.389 684.308 286.813 680.584 Q284.236 676.841 284.236 669.75 Q284.236 663.092 287.396 659.143 Q290.556 655.174 295.878 655.174 Q297.307 655.174 298.756 655.457 Q300.223 655.739 301.803 656.303 Z\" fill=\"#000000\" fill-rule=\"evenodd\" fill-opacity=\"1\" /><path clip-path=\"url(#clip980)\" d=\"M129.862 420.743 L118.056 439.192 L129.862 439.192 L129.862 420.743 M128.635 416.669 L134.515 416.669 L134.515 439.192 L139.445 439.192 L139.445 443.081 L134.515 443.081 L134.515 451.229 L129.862 451.229 L129.862 443.081 L114.26 443.081 L114.26 438.567 L128.635 416.669 Z\" fill=\"#000000\" fill-rule=\"evenodd\" fill-opacity=\"1\" /><path clip-path=\"url(#clip980)\" d=\"M147.177 445.349 L152.061 445.349 L152.061 451.229 L147.177 451.229 L147.177 445.349 Z\" fill=\"#000000\" fill-rule=\"evenodd\" fill-opacity=\"1\" /><path clip-path=\"url(#clip980)\" d=\"M172.246 419.748 Q168.635 419.748 166.806 423.312 Q165.001 426.854 165.001 433.984 Q165.001 441.09 166.806 444.655 Q168.635 448.197 172.246 448.197 Q175.88 448.197 177.686 444.655 Q179.514 441.09 179.514 433.984 Q179.514 426.854 177.686 423.312 Q175.88 419.748 172.246 419.748 M172.246 416.044 Q178.056 416.044 181.112 420.65 Q184.19 425.234 184.19 433.984 Q184.19 442.711 181.112 447.317 Q178.056 451.9 172.246 451.9 Q166.436 451.9 163.357 447.317 Q160.302 442.711 160.302 433.984 Q160.302 425.234 163.357 420.65 Q166.436 416.044 172.246 416.044 Z\" fill=\"#000000\" fill-rule=\"evenodd\" fill-opacity=\"1\" /><path clip-path=\"url(#clip980)\" d=\"M220.579 425.766 L210 436.391 L220.579 446.97 L217.824 449.771 L207.199 439.146 L196.575 449.771 L193.843 446.97 L204.399 436.391 L193.843 425.766 L196.575 422.965 L207.199 433.59 L217.824 422.965 L220.579 425.766 Z\" fill=\"#000000\" fill-rule=\"evenodd\" fill-opacity=\"1\" /><path clip-path=\"url(#clip980)\" d=\"M232.94 447.294 L240.579 447.294 L240.579 420.928 L232.269 422.595 L232.269 418.336 L240.533 416.669 L245.209 416.669 L245.209 447.294 L252.847 447.294 L252.847 451.229 L232.94 451.229 L232.94 447.294 Z\" fill=\"#000000\" fill-rule=\"evenodd\" fill-opacity=\"1\" /><path clip-path=\"url(#clip980)\" d=\"M272.292 419.748 Q268.681 419.748 266.852 423.312 Q265.046 426.854 265.046 433.984 Q265.046 441.09 266.852 444.655 Q268.681 448.197 272.292 448.197 Q275.926 448.197 277.732 444.655 Q279.56 441.09 279.56 433.984 Q279.56 426.854 277.732 423.312 Q275.926 419.748 272.292 419.748 M272.292 416.044 Q278.102 416.044 281.157 420.65 Q284.236 425.234 284.236 433.984 Q284.236 442.711 281.157 447.317 Q278.102 451.9 272.292 451.9 Q266.482 451.9 263.403 447.317 Q260.347 442.711 260.347 433.984 Q260.347 425.234 263.403 420.65 Q266.482 416.044 272.292 416.044 Z\" fill=\"#000000\" fill-rule=\"evenodd\" fill-opacity=\"1\" /><path clip-path=\"url(#clip980)\" d=\"M294.261 408.265 Q291.703 408.265 290.198 410.014 Q288.712 411.763 288.712 414.81 Q288.712 417.838 290.198 419.606 Q291.703 421.355 294.261 421.355 Q296.818 421.355 298.304 419.606 Q299.809 417.838 299.809 414.81 Q299.809 411.763 298.304 410.014 Q296.818 408.265 294.261 408.265 M301.803 396.359 L301.803 399.82 Q300.373 399.143 298.906 398.785 Q297.458 398.428 296.029 398.428 Q292.267 398.428 290.273 400.967 Q288.299 403.506 288.016 408.641 Q289.126 407.004 290.8 406.139 Q292.474 405.255 294.486 405.255 Q298.718 405.255 301.163 407.832 Q303.627 410.39 303.627 414.81 Q303.627 419.135 301.069 421.75 Q298.511 424.364 294.261 424.364 Q289.389 424.364 286.813 420.64 Q284.236 416.897 284.236 409.807 Q284.236 403.149 287.396 399.199 Q290.556 395.231 295.878 395.231 Q297.307 395.231 298.756 395.513 Q300.223 395.795 301.803 396.359 Z\" fill=\"#000000\" fill-rule=\"evenodd\" fill-opacity=\"1\" /><path clip-path=\"url(#clip980)\" d=\"M117.061 156.725 L135.417 156.725 L135.417 160.661 L121.343 160.661 L121.343 169.133 Q122.362 168.786 123.38 168.623 Q124.399 168.438 125.418 168.438 Q131.205 168.438 134.584 171.61 Q137.964 174.781 137.964 180.197 Q137.964 185.776 134.492 188.878 Q131.019 191.957 124.7 191.957 Q122.524 191.957 120.255 191.586 Q118.01 191.216 115.603 190.475 L115.603 185.776 Q117.686 186.91 119.908 187.466 Q122.13 188.022 124.607 188.022 Q128.612 188.022 130.95 185.915 Q133.288 183.809 133.288 180.197 Q133.288 176.586 130.95 174.48 Q128.612 172.373 124.607 172.373 Q122.732 172.373 120.857 172.79 Q119.006 173.207 117.061 174.086 L117.061 156.725 Z\" fill=\"#000000\" fill-rule=\"evenodd\" fill-opacity=\"1\" /><path clip-path=\"url(#clip980)\" d=\"M147.177 185.406 L152.061 185.406 L152.061 191.285 L147.177 191.285 L147.177 185.406 Z\" fill=\"#000000\" fill-rule=\"evenodd\" fill-opacity=\"1\" /><path clip-path=\"url(#clip980)\" d=\"M172.246 159.804 Q168.635 159.804 166.806 163.369 Q165.001 166.911 165.001 174.04 Q165.001 181.147 166.806 184.711 Q168.635 188.253 172.246 188.253 Q175.88 188.253 177.686 184.711 Q179.514 181.147 179.514 174.04 Q179.514 166.911 177.686 163.369 Q175.88 159.804 172.246 159.804 M172.246 156.1 Q178.056 156.1 181.112 160.707 Q184.19 165.29 184.19 174.04 Q184.19 182.767 181.112 187.373 Q178.056 191.957 172.246 191.957 Q166.436 191.957 163.357 187.373 Q160.302 182.767 160.302 174.04 Q160.302 165.29 163.357 160.707 Q166.436 156.1 172.246 156.1 Z\" fill=\"#000000\" fill-rule=\"evenodd\" fill-opacity=\"1\" /><path clip-path=\"url(#clip980)\" d=\"M220.579 165.823 L210 176.448 L220.579 187.026 L217.824 189.827 L207.199 179.202 L196.575 189.827 L193.843 187.026 L204.399 176.448 L193.843 165.823 L196.575 163.022 L207.199 173.647 L217.824 163.022 L220.579 165.823 Z\" fill=\"#000000\" fill-rule=\"evenodd\" fill-opacity=\"1\" /><path clip-path=\"url(#clip980)\" d=\"M232.94 187.35 L240.579 187.35 L240.579 160.985 L232.269 162.651 L232.269 158.392 L240.533 156.725 L245.209 156.725 L245.209 187.35 L252.847 187.35 L252.847 191.285 L232.94 191.285 L232.94 187.35 Z\" fill=\"#000000\" fill-rule=\"evenodd\" fill-opacity=\"1\" /><path clip-path=\"url(#clip980)\" d=\"M272.292 159.804 Q268.681 159.804 266.852 163.369 Q265.046 166.911 265.046 174.04 Q265.046 181.147 266.852 184.711 Q268.681 188.253 272.292 188.253 Q275.926 188.253 277.732 184.711 Q279.56 181.147 279.56 174.04 Q279.56 166.911 277.732 163.369 Q275.926 159.804 272.292 159.804 M272.292 156.1 Q278.102 156.1 281.157 160.707 Q284.236 165.29 284.236 174.04 Q284.236 182.767 281.157 187.373 Q278.102 191.957 272.292 191.957 Q266.482 191.957 263.403 187.373 Q260.347 182.767 260.347 174.04 Q260.347 165.29 263.403 160.707 Q266.482 156.1 272.292 156.1 Z\" fill=\"#000000\" fill-rule=\"evenodd\" fill-opacity=\"1\" /><path clip-path=\"url(#clip980)\" d=\"M294.261 148.321 Q291.703 148.321 290.198 150.07 Q288.712 151.819 288.712 154.866 Q288.712 157.894 290.198 159.662 Q291.703 161.411 294.261 161.411 Q296.818 161.411 298.304 159.662 Q299.809 157.894 299.809 154.866 Q299.809 151.819 298.304 150.07 Q296.818 148.321 294.261 148.321 M301.803 136.416 L301.803 139.876 Q300.373 139.199 298.906 138.842 Q297.458 138.485 296.029 138.485 Q292.267 138.485 290.273 141.024 Q288.299 143.563 288.016 148.697 Q289.126 147.061 290.8 146.196 Q292.474 145.312 294.486 145.312 Q298.718 145.312 301.163 147.888 Q303.627 150.446 303.627 154.866 Q303.627 159.192 301.069 161.806 Q298.511 164.42 294.261 164.42 Q289.389 164.42 286.813 160.696 Q284.236 156.954 284.236 149.863 Q284.236 143.205 287.396 139.256 Q290.556 135.287 295.878 135.287 Q297.307 135.287 298.756 135.569 Q300.223 135.851 301.803 136.416 Z\" fill=\"#000000\" fill-rule=\"evenodd\" fill-opacity=\"1\" /><path clip-path=\"url(#clip980)\" d=\"M21.7677 935.907 L39.6235 935.907 L39.6235 927.822 Q39.6235 923.335 37.3 920.884 Q34.9765 918.433 30.6797 918.433 Q26.4147 918.433 24.0912 920.884 Q21.7677 923.335 21.7677 927.822 L21.7677 935.907 M16.4842 942.336 L16.4842 927.822 Q16.4842 919.833 20.1126 915.759 Q23.7092 911.653 30.6797 911.653 Q37.7138 911.653 41.3104 915.759 Q44.907 919.833 44.907 927.822 L44.907 935.907 L64.0042 935.907 L64.0042 942.336 L16.4842 942.336 Z\" fill=\"#000000\" fill-rule=\"evenodd\" fill-opacity=\"1\" /><path clip-path=\"url(#clip980)\" d=\"M33.8307 883.772 Q33.2578 884.758 33.0032 885.936 Q32.7167 887.082 32.7167 888.482 Q32.7167 893.448 35.9632 896.121 Q39.1779 898.763 45.2253 898.763 L64.0042 898.763 L64.0042 904.651 L28.3562 904.651 L28.3562 898.763 L33.8944 898.763 Q30.6479 896.917 29.0883 893.957 Q27.4968 890.997 27.4968 886.764 Q27.4968 886.159 27.5923 885.427 Q27.656 884.695 27.8151 883.803 L33.8307 883.772 Z\" fill=\"#000000\" fill-rule=\"evenodd\" fill-opacity=\"1\" /><path clip-path=\"url(#clip980)\" d=\"M44.7161 848.569 L47.5806 848.569 L47.5806 875.496 Q53.6281 875.114 56.8109 871.868 Q59.9619 868.589 59.9619 862.765 Q59.9619 859.391 59.1344 856.24 Q58.3069 853.057 56.6518 849.938 L62.1899 849.938 Q63.5267 853.089 64.227 856.399 Q64.9272 859.709 64.9272 863.115 Q64.9272 871.645 59.9619 876.642 Q54.9967 881.607 46.5303 881.607 Q37.7774 881.607 32.6531 876.897 Q27.4968 872.154 27.4968 864.133 Q27.4968 856.94 32.1438 852.771 Q36.7589 848.569 44.7161 848.569 M42.9973 854.426 Q38.1912 854.489 35.3266 857.131 Q32.4621 859.741 32.4621 864.07 Q32.4621 868.971 35.2312 871.931 Q38.0002 874.86 43.0292 875.305 L42.9973 854.426 Z\" fill=\"#000000\" fill-rule=\"evenodd\" fill-opacity=\"1\" /><path clip-path=\"url(#clip980)\" d=\"M29.4065 816.231 L34.9447 816.231 Q33.6716 818.714 33.035 821.388 Q32.3984 824.061 32.3984 826.926 Q32.3984 831.286 33.7352 833.483 Q35.072 835.647 37.7456 835.647 Q39.7826 835.647 40.9603 834.087 Q42.1061 832.528 43.1565 827.817 L43.6021 825.812 Q44.9389 819.573 47.3897 816.964 Q49.8086 814.322 54.1691 814.322 Q59.1344 814.322 62.0308 818.269 Q64.9272 822.183 64.9272 829.058 Q64.9272 831.923 64.3543 835.042 Q63.8132 838.13 62.6992 841.567 L56.6518 841.567 Q58.3387 838.321 59.198 835.169 Q60.0256 832.018 60.0256 828.931 Q60.0256 824.793 58.6251 822.565 Q57.1929 820.337 54.6147 820.337 Q52.2276 820.337 50.9545 821.961 Q49.6813 823.552 48.5037 828.995 L48.0262 831.032 Q46.8804 836.474 44.5251 838.893 Q42.138 841.312 38.0002 841.312 Q32.9713 841.312 30.2341 837.748 Q27.4968 834.183 27.4968 827.626 Q27.4968 824.38 27.9743 821.515 Q28.4517 818.65 29.4065 816.231 Z\" fill=\"#000000\" fill-rule=\"evenodd\" fill-opacity=\"1\" /><path clip-path=\"url(#clip980)\" d=\"M29.4065 782.27 L34.9447 782.27 Q33.6716 784.753 33.035 787.427 Q32.3984 790.1 32.3984 792.965 Q32.3984 797.325 33.7352 799.522 Q35.072 801.686 37.7456 801.686 Q39.7826 801.686 40.9603 800.126 Q42.1061 798.567 43.1565 793.856 L43.6021 791.851 Q44.9389 785.612 47.3897 783.003 Q49.8086 780.361 54.1691 780.361 Q59.1344 780.361 62.0308 784.307 Q64.9272 788.222 64.9272 795.097 Q64.9272 797.962 64.3543 801.081 Q63.8132 804.168 62.6992 807.606 L56.6518 807.606 Q58.3387 804.359 59.198 801.208 Q60.0256 798.057 60.0256 794.97 Q60.0256 790.832 58.6251 788.604 Q57.1929 786.376 54.6147 786.376 Q52.2276 786.376 50.9545 788 Q49.6813 789.591 48.5037 795.034 L48.0262 797.071 Q46.8804 802.513 44.5251 804.932 Q42.138 807.351 38.0002 807.351 Q32.9713 807.351 30.2341 803.787 Q27.4968 800.222 27.4968 793.665 Q27.4968 790.419 27.9743 787.554 Q28.4517 784.689 29.4065 782.27 Z\" fill=\"#000000\" fill-rule=\"evenodd\" fill-opacity=\"1\" /><path clip-path=\"url(#clip980)\" d=\"M49.9359 771.64 L28.3562 771.64 L28.3562 765.783 L49.7131 765.783 Q54.7739 765.783 57.3202 763.81 Q59.8346 761.837 59.8346 757.89 Q59.8346 753.147 56.8109 750.41 Q53.7872 747.641 48.5673 747.641 L28.3562 747.641 L28.3562 741.785 L64.0042 741.785 L64.0042 747.641 L58.5296 747.641 Q61.7762 749.774 63.3676 752.606 Q64.9272 755.407 64.9272 759.131 Q64.9272 765.274 61.1078 768.457 Q57.2883 771.64 49.9359 771.64 M27.4968 756.903 L27.4968 756.903 Z\" fill=\"#000000\" fill-rule=\"evenodd\" fill-opacity=\"1\" /><path clip-path=\"url(#clip980)\" d=\"M33.8307 709.065 Q33.2578 710.052 33.0032 711.229 Q32.7167 712.375 32.7167 713.775 Q32.7167 718.741 35.9632 721.414 Q39.1779 724.056 45.2253 724.056 L64.0042 724.056 L64.0042 729.944 L28.3562 729.944 L28.3562 724.056 L33.8944 724.056 Q30.6479 722.21 29.0883 719.25 Q27.4968 716.29 27.4968 712.057 Q27.4968 711.452 27.5923 710.72 Q27.656 709.988 27.8151 709.097 L33.8307 709.065 Z\" fill=\"#000000\" fill-rule=\"evenodd\" fill-opacity=\"1\" /><path clip-path=\"url(#clip980)\" d=\"M44.7161 673.862 L47.5806 673.862 L47.5806 700.789 Q53.6281 700.407 56.8109 697.161 Q59.9619 693.883 59.9619 688.058 Q59.9619 684.684 59.1344 681.533 Q58.3069 678.35 56.6518 675.231 L62.1899 675.231 Q63.5267 678.382 64.227 681.692 Q64.9272 685.002 64.9272 688.408 Q64.9272 696.938 59.9619 701.935 Q54.9967 706.9 46.5303 706.9 Q37.7774 706.9 32.6531 702.19 Q27.4968 697.447 27.4968 689.427 Q27.4968 682.233 32.1438 678.064 Q36.7589 673.862 44.7161 673.862 M42.9973 679.719 Q38.1912 679.783 35.3266 682.424 Q32.4621 685.034 32.4621 689.363 Q32.4621 694.265 35.2312 697.225 Q38.0002 700.153 43.0292 700.598 L42.9973 679.719 Z\" fill=\"#000000\" fill-rule=\"evenodd\" fill-opacity=\"1\" /><path clip-path=\"url(#clip980)\" d=\"M14.479 644.071 L14.479 630.576 L19.0304 630.576 L19.0304 638.215 L68.0464 638.215 L68.0464 630.576 L72.5979 630.576 L72.5979 644.071 L14.479 644.071 Z\" fill=\"#000000\" fill-rule=\"evenodd\" fill-opacity=\"1\" /><path clip-path=\"url(#clip980)\" d=\"M21.7677 611.415 L39.6235 611.415 L39.6235 603.33 Q39.6235 598.843 37.3 596.392 Q34.9765 593.941 30.6797 593.941 Q26.4147 593.941 24.0912 596.392 Q21.7677 598.843 21.7677 603.33 L21.7677 611.415 M16.4842 617.844 L16.4842 603.33 Q16.4842 595.341 20.1126 591.267 Q23.7092 587.162 30.6797 587.162 Q37.7138 587.162 41.3104 591.267 Q44.907 595.341 44.907 603.33 L44.907 611.415 L64.0042 611.415 L64.0042 617.844 L16.4842 617.844 Z\" fill=\"#000000\" fill-rule=\"evenodd\" fill-opacity=\"1\" /><path clip-path=\"url(#clip980)\" d=\"M46.0847 565.518 Q46.0847 572.616 47.7079 575.353 Q49.3312 578.09 53.2461 578.09 Q56.3653 578.09 58.2114 576.053 Q60.0256 573.985 60.0256 570.452 Q60.0256 565.582 56.5881 562.654 Q53.1188 559.694 47.3897 559.694 L46.0847 559.694 L46.0847 565.518 M43.6657 553.837 L64.0042 553.837 L64.0042 559.694 L58.5933 559.694 Q61.8398 561.699 63.3994 564.691 Q64.9272 567.682 64.9272 572.011 Q64.9272 577.486 61.8716 580.732 Q58.7843 583.947 53.6281 583.947 Q47.6125 583.947 44.5569 579.936 Q41.5014 575.894 41.5014 567.905 L41.5014 559.694 L40.9285 559.694 Q36.8862 559.694 34.6901 562.367 Q32.4621 565.009 32.4621 569.815 Q32.4621 572.871 33.1941 575.767 Q33.9262 578.663 35.3903 581.337 L29.9795 581.337 Q28.7381 578.122 28.1334 575.099 Q27.4968 572.075 27.4968 569.21 Q27.4968 561.476 31.5072 557.656 Q35.5176 553.837 43.6657 553.837 Z\" fill=\"#000000\" fill-rule=\"evenodd\" fill-opacity=\"1\" /><path clip-path=\"url(#clip980)\" d=\"M14.479 528.088 L72.5979 528.088 L72.5979 541.583 L68.0464 541.583 L68.0464 533.976 L19.0304 533.976 L19.0304 541.583 L14.479 541.583 L14.479 528.088 Z\" fill=\"#000000\" fill-rule=\"evenodd\" fill-opacity=\"1\" /><polyline clip-path=\"url(#clip982)\" style=\"stroke:#009af9; stroke-linecap:round; stroke-linejoin:round; stroke-width:4; stroke-opacity:1; fill:none\" points=\"\n",
       "  396.602,86.1857 400.619,86.8146 404.636,87.75 408.654,88.931 412.671,90.3221 416.688,91.8997 420.705,93.6463 424.722,95.5489 428.739,97.5967 432.756,99.7812 \n",
       "  436.773,102.095 440.79,104.532 444.807,107.087 448.824,109.756 452.841,112.534 456.859,115.417 460.876,118.403 464.893,121.489 468.91,124.672 472.927,127.949 \n",
       "  476.944,131.32 480.961,134.782 484.978,138.333 488.995,141.972 493.012,145.698 497.029,149.511 501.047,153.409 505.064,157.391 509.081,161.459 513.098,165.611 \n",
       "  517.115,169.849 521.132,174.173 525.149,178.586 529.166,183.09 533.183,187.689 537.2,192.389 541.217,197.199 545.234,202.135 549.252,207.212 553.269,212.477 \n",
       "  557.286,218.034 561.303,224.086 565.32,230.497 569.337,255.781 573.354,258.407 577.371,261.032 581.388,263.658 585.405,266.284 589.422,268.91 593.44,271.535 \n",
       "  597.457,274.161 601.474,276.787 605.491,279.412 609.508,282.038 613.525,284.664 617.542,287.289 621.559,289.915 625.576,292.541 629.593,295.166 633.61,297.792 \n",
       "  637.627,300.418 641.645,303.044 645.662,305.669 649.679,308.295 653.696,310.921 657.713,313.546 661.73,316.172 665.747,318.798 669.764,321.423 673.781,324.049 \n",
       "  677.798,326.675 681.815,329.3 685.833,331.926 689.85,334.552 693.867,337.178 697.884,339.803 701.901,342.429 705.918,345.055 709.935,347.68 713.952,350.306 \n",
       "  717.969,352.932 721.986,355.557 726.003,358.183 730.02,360.809 734.038,363.434 738.055,366.06 742.072,368.686 746.089,371.312 750.106,373.937 754.123,376.563 \n",
       "  758.14,379.189 762.157,381.814 766.174,384.44 770.191,387.066 774.208,389.691 778.226,392.317 782.243,394.943 786.26,397.568 790.277,400.194 802.228,408.006 \n",
       "  899.441,471.547 1073.98,585.634 1248.53,699.72 1423.07,813.806 1597.61,927.893 1772.15,1041.98 1946.7,1156.07 2121.24,1270.15 2295.78,1384.24 \n",
       "  \"/>\n",
       "<path clip-path=\"url(#clip980)\" d=\"\n",
       "M2009.54 196.789 L2285.65 196.789 L2285.65 93.1086 L2009.54 93.1086  Z\n",
       "  \" fill=\"#ffffff\" fill-rule=\"evenodd\" fill-opacity=\"1\"/>\n",
       "<polyline clip-path=\"url(#clip980)\" style=\"stroke:#000000; stroke-linecap:round; stroke-linejoin:round; stroke-width:4; stroke-opacity:1; fill:none\" points=\"\n",
       "  2009.54,196.789 2285.65,196.789 2285.65,93.1086 2009.54,93.1086 2009.54,196.789 \n",
       "  \"/>\n",
       "<polyline clip-path=\"url(#clip980)\" style=\"stroke:#009af9; stroke-linecap:round; stroke-linejoin:round; stroke-width:4; stroke-opacity:1; fill:none\" points=\"\n",
       "  2031.91,144.949 2166.12,144.949 \n",
       "  \"/>\n",
       "<path clip-path=\"url(#clip980)\" d=\"M2202.33 164.636 Q2200.52 169.266 2198.81 170.678 Q2197.1 172.09 2194.23 172.09 L2190.82 172.09 L2190.82 168.525 L2193.32 168.525 Q2195.08 168.525 2196.05 167.692 Q2197.03 166.858 2198.21 163.756 L2198.97 161.812 L2188.49 136.303 L2193 136.303 L2201.1 156.581 L2209.2 136.303 L2213.72 136.303 L2202.33 164.636 Z\" fill=\"#000000\" fill-rule=\"evenodd\" fill-opacity=\"1\" /><path clip-path=\"url(#clip980)\" d=\"M2221.01 158.293 L2228.65 158.293 L2228.65 131.928 L2220.34 133.595 L2220.34 129.335 L2228.6 127.669 L2233.28 127.669 L2233.28 158.293 L2240.92 158.293 L2240.92 162.229 L2221.01 162.229 L2221.01 158.293 Z\" fill=\"#000000\" fill-rule=\"evenodd\" fill-opacity=\"1\" /></svg>\n"
      ]
     },
     "execution_count": 26,
     "metadata": {},
     "output_type": "execute_result"
    }
   ],
   "source": [
    "# plot(sw.value[2:end-1])\n",
    "plot(meshvar.cellcenters.x, p.value[2:end-1], \n",
    "    xlabel=\"Core length [m]\",\n",
    "    ylabel=\"Pressure [Pa]\",\n",
    "    )"
   ]
  },
  {
   "cell_type": "code",
   "execution_count": 55,
   "metadata": {},
   "outputs": [],
   "source": [
    "plot(meshvar.cellcenters.x, [krg.(sw.value[2:end-1]) kr.(sw.value[2:end-1])].+1e-10, \n",
    "    xlabel=\"Core length [m]\",\n",
    "    ylabel=\"Relative mobility\",\n",
    "    yaxis=:log,\n",
    "    tickfontsize=11,\n",
    "    label=[\"Foam\" \"Gas\"],\n",
    "    dpi=300)\n",
    "savefig(\"relative_mobility.png\")"
   ]
  }
 ],
 "metadata": {
  "hide_input": false,
  "kernelspec": {
   "display_name": "Julia 1.8.2",
   "language": "julia",
   "name": "julia-1.8"
  },
  "language_info": {
   "file_extension": ".jl",
   "mimetype": "application/julia",
   "name": "julia",
   "version": "1.8.2"
  }
 },
 "nbformat": 4,
 "nbformat_minor": 4
}
